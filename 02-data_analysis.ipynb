{
 "cells": [
  {
   "cell_type": "markdown",
   "id": "0c3b879b-3e2e-4bd0-9c3e-def75e65d0ed",
   "metadata": {},
   "source": [
    "The rendered version is at `/pdf_notebooks/02-data_analysis.pdf` "
   ]
  },
  {
   "cell_type": "code",
   "execution_count": null,
   "id": "daf1a744-db7c-46fa-8ee0-5be71d5b42ac",
   "metadata": {},
   "outputs": [],
   "source": [
    "import pandas as pd\n",
    "import numpy as np\n",
    "import re\n",
    "import math"
   ]
  },
  {
   "cell_type": "code",
   "execution_count": null,
   "id": "69e5a22b-60d3-4d22-afe2-aaf52ed9890c",
   "metadata": {},
   "outputs": [],
   "source": [
    "import seaborn as sns\n",
    "import matplotlib.pyplot as plt\n",
    "import plotly.express as px\n",
    "import plotly.graph_objects as go\n",
    "import plotly.io as pio\n",
    "from plotly.subplots import make_subplots\n",
    "%matplotlib inline"
   ]
  },
  {
   "cell_type": "code",
   "execution_count": null,
   "id": "2ec89403-b910-408e-9d99-32eb87cbdff4",
   "metadata": {},
   "outputs": [],
   "source": [
    "!pip install -U kaleido"
   ]
  },
  {
   "cell_type": "code",
   "execution_count": null,
   "id": "1490b813-5899-4856-831f-094960fd5d34",
   "metadata": {},
   "outputs": [],
   "source": [
    "from scipy.stats import spearmanr, chi2_contingency, pointbiserialr"
   ]
  },
  {
   "cell_type": "markdown",
   "id": "5a738b41-f9a6-464d-9833-95ae337dbdcb",
   "metadata": {},
   "source": [
    "In this notebook, we analyse the US Traffic Accident dataset to derive insights and select features for predictive models."
   ]
  },
  {
   "cell_type": "code",
   "execution_count": null,
   "id": "68bf2175-4081-437e-9210-3feb5439448a",
   "metadata": {},
   "outputs": [],
   "source": [
    "%%time\n",
    "data = pd.read_csv(\"data/US_Accidents_March23_Clean.csv\")\n",
    "data.shape"
   ]
  },
  {
   "cell_type": "code",
   "execution_count": null,
   "id": "ccca9fb3-9d17-4ada-8349-c12160641d49",
   "metadata": {},
   "outputs": [],
   "source": [
    "%%time\n",
    "fig = px.histogram(data, x='Year', title='Distribution of Accidents by Year')\n",
    "fig.update_layout(width=450, height=350)\n",
    "fig.show(config={'staticPlot': True})"
   ]
  },
  {
   "cell_type": "code",
   "execution_count": null,
   "id": "3e49cca1-9dc8-43a4-b4f0-b0902dfdf0b9",
   "metadata": {},
   "outputs": [],
   "source": [
    "print(f'Portion of data for 2021 to 2022: {data[(data[\"Year\"] == 2021) | (data[\"Year\"] == 2022)].shape[0] / data.shape[0]:.2f}%')\n",
    "print(f'Portion of data for oher years: {data[(data[\"Year\"] != 2021) & (data[\"Year\"] != 2022)].shape[0] / data.shape[0]:.2f}%')"
   ]
  },
  {
   "cell_type": "markdown",
   "id": "58df7ea5-d549-4b98-bcc3-2f70f12b4dc5",
   "metadata": {},
   "source": [
    "The dataset we have contains over 7 millions rows and has a size of 1.5Go (or more). In this analysis and beyond, we are focusing solely on the years 2021 and 2022 for our analysis to ensure that our insights and predictive models are based on the most recent and relevant data available.\n",
    "* Recent and Relevant Data: The years 2021 and 2022 would be more relevant to leverage the most current insights into what influences impacting accident severity.\n",
    "* Higher Data Volume: Despite comprising a smaller portion of the dataset (43%), data from the years 2021 and 2022 offer a substantial amount of recorded accidents, ensuring robust analysis and modeling.\n",
    "* Accuracy in Predictions: By analyzing recent years, we aim to produce predictive models that accurately reflect present-day accident trends and conditions, enhancing the reliability of our forecasts.\n",
    "* Resource Optimization: Prioritizing these years optimizes our resources (less data to process) by concentrating efforts on data that is more likely to yield actionable insights."
   ]
  },
  {
   "cell_type": "code",
   "execution_count": null,
   "id": "014dbd66-55f8-46b2-b66d-d4c39df68e97",
   "metadata": {},
   "outputs": [],
   "source": [
    "data = data[(data[\"Year\"] == 2021) | (data[\"Year\"] == 2022)].copy()\n",
    "data.shape"
   ]
  },
  {
   "cell_type": "markdown",
   "id": "8c99f247-3d3f-4aec-8cda-d4fc83f89ce2",
   "metadata": {},
   "source": [
    "The dataset we are dealing with is highly imbalanced. Severity of level 2 make up (89%) of the data. We understand that nearly all of the reported accidents in the US were of severity 2. However, for the purpose of analysis and modeling, we may downsample to make the dataset balanced as we are more interested in studying factors for accident severity."
   ]
  },
  {
   "cell_type": "code",
   "execution_count": null,
   "id": "31b0b745-498b-4082-bdb1-cd22586f04a2",
   "metadata": {},
   "outputs": [],
   "source": [
    "data[\"Severity\"].value_counts()"
   ]
  },
  {
   "cell_type": "code",
   "execution_count": null,
   "id": "63e96d97-818e-4a57-b79f-9eb7381ccae6",
   "metadata": {},
   "outputs": [],
   "source": [
    "data[\"Severity\"].value_counts() / len(data)"
   ]
  },
  {
   "cell_type": "code",
   "execution_count": null,
   "id": "c1c08a12-7f32-4d15-9684-ab41949c2f72",
   "metadata": {},
   "outputs": [],
   "source": [
    "downsampled_count = int(data[\"Severity\"].value_counts().sort_values(ascending=False).iloc[1] * 1.55)\n",
    "downsampled_count"
   ]
  },
  {
   "cell_type": "code",
   "execution_count": null,
   "id": "2240cc92-f9d2-4ff8-8e67-f0d6766dcd68",
   "metadata": {},
   "outputs": [],
   "source": [
    "df_majority_downsampled = data[data[\"Severity\"] == 2].sample(n=downsampled_count, random_state=42)\n",
    "df_rest = data[data[\"Severity\"] != 2]\n",
    "df_balanced = pd.concat([df_majority_downsampled, df_rest])"
   ]
  },
  {
   "cell_type": "code",
   "execution_count": null,
   "id": "84bfc735-0e85-4362-8772-5265b2567d74",
   "metadata": {},
   "outputs": [],
   "source": [
    "df_balanced[\"Severity\"].value_counts() / len(df_balanced)"
   ]
  },
  {
   "cell_type": "code",
   "execution_count": null,
   "id": "a0949c78-c823-4636-a43e-c0c437fcf396",
   "metadata": {},
   "outputs": [],
   "source": [
    "df_balanced.shape"
   ]
  },
  {
   "cell_type": "markdown",
   "id": "89e2744a-6748-4e16-a1c0-01cc9d4da41f",
   "metadata": {},
   "source": [
    "We are down to a bit more than half a million rows in the dataset which is still a bit much considering our resources. We may downsample again while maintain the distribution of keys variables."
   ]
  },
  {
   "cell_type": "code",
   "execution_count": null,
   "id": "6abf352f-9cfa-4bfa-aa86-aec3e6bc2306",
   "metadata": {},
   "outputs": [],
   "source": [
    "%%time\n",
    "category_year_proportions = df_balanced.groupby(['Severity', 'Year']).size() / len(df_balanced)\n",
    "sample_size = 0.8\n",
    "# Sample based on the proportions of each Severity and Year combination\n",
    "df = df_balanced.groupby(['Severity', 'Year'], group_keys=False).apply(\n",
    "    lambda x: x.sample(frac=sample_size * category_year_proportions[x.name], random_state=42)\n",
    ").reset_index(drop=True)\n",
    "\n",
    "df.shape"
   ]
  },
  {
   "cell_type": "markdown",
   "id": "e1461373-5ed0-4472-ab1c-5146748312b3",
   "metadata": {},
   "source": [
    "We make sure the distribution is the same"
   ]
  },
  {
   "cell_type": "code",
   "execution_count": null,
   "id": "9ab57e6d-879f-4720-b3ec-981e8ab739f6",
   "metadata": {},
   "outputs": [],
   "source": [
    "fig = go.Figure()\n",
    "fig.add_trace(go.Histogram(x=data['Year'], opacity=0.7, name='Original Data'))\n",
    "fig.add_trace(go.Histogram(x=df['Year'], opacity=0.7, name='Sampled Data'))\n",
    "fig.update_layout(\n",
    "    height=300, width=450,\n",
    "    title='Comparison of Year Distribution',\n",
    "    xaxis_title='Year',\n",
    "    yaxis_title='Count',\n",
    "    barmode='overlay',\n",
    "    bargap=0.1,\n",
    "    bargroupgap=0.1,\n",
    "    xaxis=dict(\n",
    "        tickmode='linear',  tick0=min(data['Year']), dtick=1\n",
    "    )\n",
    ")\n",
    "# Show the plot\n",
    "fig.show(config={'staticPlot': True})"
   ]
  },
  {
   "cell_type": "code",
   "execution_count": null,
   "id": "a8ef5516-4cd1-4827-9480-aa997c616f53",
   "metadata": {},
   "outputs": [],
   "source": [
    "fig = go.Figure()\n",
    "fig.add_trace(go.Histogram(x=data['Severity'], opacity=0.7, name='Original Data'))\n",
    "fig.add_trace(go.Histogram(x=df['Severity'], opacity=0.7, name='Sampled Data'))\n",
    "fig.update_layout(\n",
    "    height=300, width=450,\n",
    "    title='Comparison of Severity Distribution',\n",
    "    xaxis_title='Severity',\n",
    "    yaxis_title='Count',\n",
    "    barmode='overlay',\n",
    "    bargap=0.1,\n",
    "    bargroupgap=0.1,\n",
    "    xaxis=dict(\n",
    "        tickmode='linear',  tick0=min(data['Severity']), dtick=1\n",
    "    )\n",
    ")\n",
    "# Show the plot\n",
    "fig.show(config={'staticPlot': True})"
   ]
  },
  {
   "cell_type": "code",
   "execution_count": null,
   "id": "272635c7-e4d8-4c38-8f73-1af9d501019d",
   "metadata": {},
   "outputs": [],
   "source": [
    "del(data)\n",
    "del(df_balanced)"
   ]
  },
  {
   "cell_type": "code",
   "execution_count": null,
   "id": "81e2d1cc-714e-46ac-9208-d95ec82ca919",
   "metadata": {},
   "outputs": [],
   "source": [
    "%%time\n",
    "df[\"Start_Time\"] = pd.to_datetime(df[\"Start_Time\"])\n",
    "df[\"End_Time\"] = pd.to_datetime(df[\"End_Time\"])\n",
    "df[\"Date\"] = pd.to_datetime(df[\"Date\"])"
   ]
  },
  {
   "cell_type": "code",
   "execution_count": null,
   "id": "96327b72-b01a-4423-bd22-521ead29f329",
   "metadata": {},
   "outputs": [],
   "source": [
    "df = df.drop(columns=[\"Start_Time\", \"End_Time\", \"Date\"])"
   ]
  },
  {
   "cell_type": "markdown",
   "id": "945d6eab-68fb-41e6-a21d-afbab1491b66",
   "metadata": {},
   "source": [
    "## Exploratory Data Analysis"
   ]
  },
  {
   "cell_type": "code",
   "execution_count": null,
   "id": "89bd17c7-4d5f-4586-999d-45da9c71207e",
   "metadata": {},
   "outputs": [],
   "source": [
    "numerical_cols = df.select_dtypes(include=['number']).columns.tolist()\n",
    "boolean_cols = df.select_dtypes(include=['bool']).columns.tolist()\n",
    "categorical_cols = df.select_dtypes(include=['object','category']).columns.tolist()"
   ]
  },
  {
   "cell_type": "markdown",
   "id": "8c1afb10-9175-408e-bd9b-58ff1dd40476",
   "metadata": {
    "tags": []
   },
   "source": [
    "### 1. Univariate Analysis"
   ]
  },
  {
   "cell_type": "markdown",
   "id": "54298a8a-bda9-4a75-97f2-43ce99575cd6",
   "metadata": {
    "tags": []
   },
   "source": [
    "#### Numerical and ordinal categorical variables\n",
    "* Time of Day: The distribution of accidents by hour shows two peaks corresponding to morning and evening rush hours, with a significant drop during early morning hours (12-5 AM). These periods correlate with traffic density.\n",
    "* Day of Week: Accidents are more frequent on weekdays, especially on Fridays. This could indicate a lower traffic density on the weekends as some people stay home and less people go out during the same hours.\n",
    "* Monthly Trends: There is a clear seasonality effect with the highest number of accidents in winter months, suggesting that weather conditions might play a significant role.\n",
    "* Yearly Trends: The number of accidents increases each year, potentially indicating either an increase in traffic volume or improved data collection over time.\n",
    "* Clear Conditions: Accidents occur frequently in clear weather, likely due to the higher number of vehicles on the road under normal conditions (normal temperature, low humidity, normal but higher pressure, high visibility, lower wind speed, and low-to-no precipitation).\n",
    "* Humidity levels: More accident occured at higher humidity levels. This might correlate with poor visibility and wet road conditions, which could increase accident risk."
   ]
  },
  {
   "cell_type": "code",
   "execution_count": null,
   "id": "e3260769-a436-46fd-bcd8-72459f5a9c07",
   "metadata": {},
   "outputs": [],
   "source": [
    "len(numerical_cols)"
   ]
  },
  {
   "cell_type": "code",
   "execution_count": null,
   "id": "e7c0c423-8e98-43da-ac80-8d66412ddb27",
   "metadata": {},
   "outputs": [],
   "source": [
    "df[numerical_cols].info()"
   ]
  },
  {
   "cell_type": "code",
   "execution_count": null,
   "id": "c36e5a50-29aa-4fde-bc81-28879f6a1986",
   "metadata": {},
   "outputs": [],
   "source": [
    "df[numerical_cols].describe()"
   ]
  },
  {
   "cell_type": "code",
   "execution_count": null,
   "id": "a7b475c7-5dd0-48c6-af0d-5b7f2a1c0dc9",
   "metadata": {},
   "outputs": [],
   "source": [
    "%%time\n",
    "fig = make_subplots(rows=4, cols=4, subplot_titles=numerical_cols)\n",
    "for i, col in enumerate(numerical_cols):\n",
    "    row = i // 4 + 1\n",
    "    col_pos = i % 4 + 1\n",
    "    fig.add_trace(\n",
    "        go.Histogram(x=df[col], nbinsx=25 if col != 'Severity' else 4, showlegend=False),\n",
    "        row=row, col=col_pos\n",
    "    )\n",
    "\n",
    "# Update layout\n",
    "fig.update_layout(height=700, width=1120, title_text=\"Histograms of Numerical Variables\")\n",
    "fig.update_xaxes(tickvals=[1, 2, 3, 4], row=1, col=1)\n",
    "fig.update_xaxes(tickvals=list(range(1, 13)), row=4, col=3)\n",
    "\n",
    "# Show plot\n",
    "fig.show(config={'staticPlot': True})"
   ]
  },
  {
   "cell_type": "markdown",
   "id": "afcaeaec-8acf-46cf-bdd4-c6d6ec75a55d",
   "metadata": {},
   "source": [
    "#### Boolean variables\n",
    "* Most boolean variables (`Amenity`, `Bump`, `Give_Way`, `No_Exit`, `Railway`, `Roundabout`, `Station`, `Stop`, `Traffic_Calming`) are predominantly False (95% or more), indicating that these features are not present in the majority of accidents. Their abscence, however, could play a role in the severity of an accident.\n",
    "* Hight-Risk Areas: Areas with crossing, junctions, and traffic signals see significant accident counts. As for the other boolean varibles, the values for these columns are also predominantly False (85% or more) tho more balanced.\n",
    "* Night-time accidents: Most accidents (69.7%) occured during the day, thus matching traffic volume trends. In addition, about 31% of accidents occur at night, highlighting a significant proportion of accidents happening in low-light conditions.\n",
    "* Highway Accidents: Although most accidents happened on local roads (72%), accidents on highways account for a notable portion (28%)."
   ]
  },
  {
   "cell_type": "code",
   "execution_count": null,
   "id": "ef63f13a-67a9-41b8-ae6e-cf2304f4cc12",
   "metadata": {},
   "outputs": [],
   "source": [
    "len(boolean_cols)"
   ]
  },
  {
   "cell_type": "code",
   "execution_count": null,
   "id": "09023ef7-b1e3-4068-bb63-f88298baf75a",
   "metadata": {},
   "outputs": [],
   "source": [
    "df[boolean_cols].info()"
   ]
  },
  {
   "cell_type": "code",
   "execution_count": null,
   "id": "ec1c60e6-1613-4898-9c5a-962e5656f129",
   "metadata": {},
   "outputs": [],
   "source": [
    "true_counts = df[boolean_cols].sum()"
   ]
  },
  {
   "cell_type": "code",
   "execution_count": null,
   "id": "5494512c-2a3b-4f0e-9fbb-b4e9809e748c",
   "metadata": {},
   "outputs": [],
   "source": [
    "fig = go.Figure(data=go.Bar(x=true_counts.index, y=true_counts.values))\n",
    "fig.update_layout(\n",
    "    height=350, width=500,\n",
    "    xaxis_tickangle=-90,\n",
    "    xaxis_title='Boolean Columns',\n",
    "    yaxis_title='Count',\n",
    "    title='Total Number of True Values for Each Boolean Column',\n",
    "    template='plotly_white',\n",
    ")\n",
    "fig.show(config={'staticPlot': True})"
   ]
  },
  {
   "cell_type": "code",
   "execution_count": null,
   "id": "7274a812-4b8f-4717-ae5a-0a4aa0524709",
   "metadata": {
    "tags": []
   },
   "outputs": [],
   "source": [
    "num_plots = len(boolean_cols)\n",
    "num_cols = 8\n",
    "num_rows = math.ceil(num_plots / num_cols)\n",
    "\n",
    "# Create Plotly figure with subplots\n",
    "fig = make_subplots(rows=num_rows, cols=num_cols, subplot_titles=boolean_cols, \n",
    "                    specs=[[{'type':'pie'}]*num_cols]*num_rows)\n",
    "# Populate subplots with pie charts\n",
    "for i, column in enumerate(boolean_cols):\n",
    "    row = i // num_cols + 1  # Plotly subplots start from row 1\n",
    "    col = i % num_cols + 1   # Plotly subplots start from col 1\n",
    "    counts = df[column].value_counts()\n",
    "    fig.add_trace(\n",
    "        go.Pie(labels=counts.index, values=counts, textinfo='percent', sort=False),\n",
    "        row=row, col=col\n",
    "    )\n",
    "    fig.update_layout(\n",
    "        title=f\"{column}\",\n",
    "        font=dict(size=10),\n",
    "        margin=dict(l=10, r=10, t=40, b=10),  # Adjust margins for better layout\n",
    "        showlegend=False\n",
    "    )\n",
    "# Update layout and show figure\n",
    "fig.update_layout(\n",
    "    title='Distribution of Boolean Columns',\n",
    "    height=350, width=1000,\n",
    "    template='plotly_white',\n",
    ")\n",
    "\n",
    "fig.show(config={'staticPlot': True})"
   ]
  },
  {
   "cell_type": "markdown",
   "id": "a73210c2-ed8b-41e3-bc62-740b28e09093",
   "metadata": {},
   "source": [
    "#### Categorical variables\n",
    "* Weather Conditions: Accidents are most frequent under clear and cloudy conditions.\n",
    "* Location Factor: Cities and States with higher accident counts often coincide with high population density, extensive road networks, and potentially varying driving conditions due to local climate and geography."
   ]
  },
  {
   "cell_type": "markdown",
   "id": "5ad3b0b8-b3bb-45e9-a649-216345767679",
   "metadata": {},
   "source": [
    "Some variables may not be very useful as they are so we would use their transformed version or new variables extracted from them."
   ]
  },
  {
   "cell_type": "code",
   "execution_count": null,
   "id": "5eafe7ab-ae89-4fd8-8f5e-8b7177a82451",
   "metadata": {},
   "outputs": [],
   "source": [
    "categorical_cols.remove(\"Street\")\n",
    "categorical_cols.remove(\"Weather_Condition\")\n",
    "categorical_cols.remove(\"ID\")"
   ]
  },
  {
   "cell_type": "code",
   "execution_count": null,
   "id": "3569dead-58eb-4d00-a354-31118203cdef",
   "metadata": {},
   "outputs": [],
   "source": [
    "len(categorical_cols)"
   ]
  },
  {
   "cell_type": "code",
   "execution_count": null,
   "id": "e17350e4-8389-4630-a7e9-5bc539995b67",
   "metadata": {},
   "outputs": [],
   "source": [
    "df[categorical_cols].info()"
   ]
  },
  {
   "cell_type": "code",
   "execution_count": null,
   "id": "e33bded5-dc5a-4618-9dc1-3d5bb411a5f0",
   "metadata": {},
   "outputs": [],
   "source": [
    "print(\"Unique values counts\")\n",
    "for col in categorical_cols:\n",
    "    print(f\"{col}: {df[col].unique().shape[0]}\")"
   ]
  },
  {
   "cell_type": "code",
   "execution_count": null,
   "id": "0727058f-993b-4524-8953-3431388276c0",
   "metadata": {},
   "outputs": [],
   "source": [
    "# Create a subplot for Weather Category, Weather Intensity, and City\n",
    "fig = make_subplots(rows=1, cols=4, subplot_titles=['Weather Category', 'Weather Intensity', 'City', 'County'])\n",
    "\n",
    "# Plot Weather Category (bar plot)\n",
    "weather_cat_counts = df['Weather_Category'].value_counts()\n",
    "fig.add_trace(go.Bar(x=weather_cat_counts.index, y=weather_cat_counts.values, marker_color='orange'), row=1, col=1)\n",
    "\n",
    "# Plot Weather Intensity (bar plot)\n",
    "weather_intensity_counts = df['Weather_Intensity'].value_counts()\n",
    "fig.add_trace(go.Bar(x=weather_intensity_counts.index, y=weather_intensity_counts.values, marker_color='blue'), row=1, col=2)\n",
    "\n",
    "# Plot City (bar plot)\n",
    "city_counts = df['City'].value_counts().nlargest(15)\n",
    "fig.add_trace(go.Bar(x=city_counts.index, y=city_counts.values, marker_color='green'), row=1, col=3)\n",
    "\n",
    "# Plot County (bar plot)\n",
    "county_counts = df['County'].value_counts().nlargest(15)\n",
    "fig.add_trace(go.Bar(x=county_counts.index, y=county_counts.values, marker_color='purple'), row=1, col=4)\n",
    "\n",
    "fig.update_layout(title='Weather Category, Intensity, Top Cities and Top Counties',\n",
    "                  height=340, width=1150, showlegend=False)\n",
    "\n",
    "fig.show(config={'staticPlot': True})"
   ]
  },
  {
   "cell_type": "markdown",
   "id": "fa0d260b-2b8d-4b17-bf49-18ae3236bbc5",
   "metadata": {},
   "source": [
    "* Most accidents occur under regular weather intensity.\n",
    "* Cities with higher populations and more traffic density tend to have more accidents."
   ]
  },
  {
   "cell_type": "code",
   "execution_count": null,
   "id": "fc7fe8f8-d14b-4360-9e06-e10a490a775f",
   "metadata": {},
   "outputs": [],
   "source": [
    "# Plot State (choropleth map)\n",
    "state_counts = df['State'].value_counts().reset_index()\n",
    "state_counts.columns = ['State', 'Counts']\n",
    "\n",
    "# Create choropleth map for State\n",
    "fig = go.Figure(data=go.Choropleth(\n",
    "    locations=state_counts['State'],\n",
    "    z=state_counts['Counts'],\n",
    "    locationmode='USA-states',\n",
    "    colorscale='Reds',\n",
    "    colorbar_title='Number of Accidents'\n",
    "))\n",
    "\n",
    "fig.update_layout(\n",
    "    title_text='Total Number of Accidents in the US (2016-2023)',\n",
    "    geo=dict(scope='usa', projection_type='albers usa'),\n",
    "    height=400, width=800,\n",
    "    showlegend=True,\n",
    "    barmode='group',\n",
    ")\n",
    "\n",
    "# Show the plot\n",
    "fig.show(config={'staticPlot': True})"
   ]
  },
  {
   "cell_type": "markdown",
   "id": "fbf8d5d0-f5db-4b96-b9e0-716f61924472",
   "metadata": {},
   "source": [
    "* States with higher populations and extensive road networks like Californaia tend to report more accidents."
   ]
  },
  {
   "cell_type": "markdown",
   "id": "88ff45e3-b4fe-4d89-b81d-668f9c225390",
   "metadata": {},
   "source": [
    "### 2. Multivariate Analysis"
   ]
  },
  {
   "cell_type": "markdown",
   "id": "0e68fc02-7ef4-4727-8c09-e3d33d97ba1a",
   "metadata": {},
   "source": [
    "#### Numerical variables"
   ]
  },
  {
   "cell_type": "code",
   "execution_count": null,
   "id": "8047515d-824d-480f-b2c7-15a98c5719c2",
   "metadata": {},
   "outputs": [],
   "source": [
    "numerical_cols.remove(\"Month\")\n",
    "numerical_cols.remove(\"Day_of_Week\")"
   ]
  },
  {
   "cell_type": "code",
   "execution_count": null,
   "id": "0170e2a7-ead6-4ae9-a0fa-f63b5da91ab6",
   "metadata": {},
   "outputs": [],
   "source": [
    "coordinate_vars = [\"Start_Lng\", \"Start_Lat\"]"
   ]
  },
  {
   "cell_type": "code",
   "execution_count": null,
   "id": "cd3bc07e-83d8-4310-9ece-f2b9046b298b",
   "metadata": {},
   "outputs": [],
   "source": [
    "#%%time\n",
    "#fig = px.scatter(df, x='Start_Lng', y='Start_Lat', color='Severity', opacity=0.5)\n",
    "#fig.update_layout(title='Start_Lat vs Start_Lng', height=450, width=780)\n",
    "#fig.show(config={'staticPlot': True})"
   ]
  },
  {
   "cell_type": "markdown",
   "id": "6245178a-2157-4804-8cae-d6574da5b913",
   "metadata": {},
   "source": [
    "* A scatterplot of coordinates (`Start_Lat` and `Start_Lng`) show that the most severe accidents occured in the most populated cities--mostly in the Eastern side of the US. We can also notice accidents along interstate highways."
   ]
  },
  {
   "cell_type": "code",
   "execution_count": null,
   "id": "4fa7478f-3c29-406e-bee9-51c03a4297b8",
   "metadata": {},
   "outputs": [],
   "source": [
    "time_vars = ['Hour', 'Day']"
   ]
  },
  {
   "cell_type": "code",
   "execution_count": null,
   "id": "6f65c90e-75a2-4c63-9c0f-c44346ea5cfe",
   "metadata": {
    "tags": []
   },
   "outputs": [],
   "source": [
    "severities = sorted(df['Severity'].unique())\n",
    "subplot_titles = [f'{time_vars[i]} - Severity {severities[j]}' for i in range(len(time_vars)) for j in range(len(severities))]\n",
    "\n",
    "# Plot time variables\n",
    "fig = make_subplots(rows=2, cols=4, subplot_titles=subplot_titles, shared_yaxes=False)\n",
    "\n",
    "for i, var in enumerate(time_vars):\n",
    "    var_counts = df[var].value_counts().sort_index()\n",
    "    for j, severity in enumerate(severities):\n",
    "        df_grouped = df[df['Severity'] == severity][var].value_counts().sort_index()\n",
    "        df_grouped = df_grouped.div(var_counts, fill_value=float('NaN'))\n",
    "        fig.add_trace(go.Bar(x=df_grouped.index, y=df_grouped.values * 100, name=f'{var} - Severity {severity}'), row=i+1, col=j+1)\n",
    "\n",
    "fig.update_layout(height=400, width=1150, title='Ordinal Categorical Variables vs Severity', showlegend=False)    \n",
    "fig.show(config={'staticPlot': True})"
   ]
  },
  {
   "cell_type": "markdown",
   "id": "40ee5061-3a2d-46e5-9d2f-b5c21c8d1d6f",
   "metadata": {},
   "source": [
    "Time of the Day:\n",
    "* Severity 1: Most accidents occur early in the morning, peaking at 7 AM, with another, less intense peak around 5 PM.\n",
    "* Severity 2 and 3: Accidents follow commuting trends, with higher frequencies during rush hours (5 AM-9 AM and 1 PM-7 PM).\n",
    "* Severity 4: The distribution is more uniform throughout the day, with a slight increase in the later hours.\n",
    "\n",
    "Day of the Month:\n",
    "* The distribution of accidents is fairly uniform throughout the month for all severity levels with a slight trend at the end of the month."
   ]
  },
  {
   "cell_type": "code",
   "execution_count": null,
   "id": "d97dd672-59b0-4b9c-9134-7cc0b9fa643f",
   "metadata": {},
   "outputs": [],
   "source": [
    "# Separate ordinal categorical variables from numerical variables\n",
    "ordinal_cols = [\"Month\", \"Day_of_Week\"]"
   ]
  },
  {
   "cell_type": "code",
   "execution_count": null,
   "id": "14adaebc-680e-483d-a43b-d329b7fd8f0d",
   "metadata": {},
   "outputs": [],
   "source": [
    "num_vars = [var for var in numerical_cols if var not in time_vars and var not in ordinal_cols and var not in coordinate_vars]\n",
    "num_vars.remove(\"Year\")\n",
    "num_vars.remove(\"Severity\")\n",
    "len(num_vars)"
   ]
  },
  {
   "cell_type": "code",
   "execution_count": null,
   "id": "5d88d532-5a5f-436e-85b5-1b3a3b9e4a29",
   "metadata": {},
   "outputs": [],
   "source": [
    "%%time\n",
    "fig = make_subplots(rows=4, cols=2, subplot_titles=num_vars)\n",
    "for i, var in enumerate(num_vars):\n",
    "    row = i // 2 + 1\n",
    "    col = i % 2 + 1\n",
    "    fig.add_trace(go.Box(\n",
    "        y=df[var], x=df['Severity'], \n",
    "        name=var,\n",
    "        boxpoints=\"suspectedoutliers\"\n",
    "        #points='suspectedoutliers', box_visible=True, meanline_visible=True\n",
    "    ), \n",
    "                  row=row, col=col)\n",
    "    fig.update_layout(height=1050, width=800, title='Numerical Variables vs Severity', showlegend=False)\n",
    "\n",
    "fig.show(config={'staticPlot': True})"
   ]
  },
  {
   "cell_type": "markdown",
   "id": "885809fc-d0c6-4a5f-a750-7acf33906ab3",
   "metadata": {},
   "source": [
    "* Distance affected: Overall, the distance slightly increases with severity, indicating more severe accidents may disrupt a longer stretch of road.\n",
    "* Temperature: Higher severity accidents occur in a wider range of temperatures, but often cooler conditions.\n",
    "* Humidity and Pressure: Do not show strong differentiation between severity levels.\n",
    "* Visibility: Generally relatively high for all severities, but slightly lower for more severe accidents.\n",
    "* Wind Speed: Higher wind speeds are associated with more severe accidents.\n",
    "* Precipitation: Low across all severities, but slightly higher for more severe accidents.\n",
    "* Duration: Increases with severity, indicating more severe accidents take longer to resolve."
   ]
  },
  {
   "cell_type": "markdown",
   "id": "79f60931-1d95-4c69-8706-b55553daf3f5",
   "metadata": {},
   "source": [
    "#### Ordinal Categorical variables"
   ]
  },
  {
   "cell_type": "code",
   "execution_count": null,
   "id": "91a2aaf1-3647-4058-81af-7226c27c9e7b",
   "metadata": {},
   "outputs": [],
   "source": [
    "severities = sorted(df['Severity'].unique())\n",
    "subplot_titles = [f'{ordinal_cols[i]} - Severity {severities[j]}' for i in range(len(ordinal_cols)) for j in range(len(severities))]\n",
    "\n",
    "# Plot time variables\n",
    "fig = make_subplots(rows=2, cols=4, subplot_titles=subplot_titles, shared_yaxes=False)\n",
    "\n",
    "for i, var in enumerate(ordinal_cols):\n",
    "    var_counts = df[var].value_counts().sort_index()\n",
    "    for j, severity in enumerate(severities):\n",
    "        df_grouped = df[df['Severity'] == severity][var].value_counts().sort_index()\n",
    "        df_grouped = df_grouped.div(var_counts, fill_value=float('NaN'))\n",
    "        fig.add_trace(go.Bar(x=df_grouped.index, y=df_grouped.values * 100, name=f'{var} - Severity {severity}'), row=i+1, col=j+1)\n",
    "\n",
    "fig.update_layout(height=400, width=1000, title='Ordinal Categorical Variables vs Severity', showlegend=False)\n",
    "fig.show(config={'staticPlot': True})"
   ]
  },
  {
   "cell_type": "markdown",
   "id": "327f746c-18a6-4c4f-8560-2f8639f551f6",
   "metadata": {},
   "source": [
    "Month of the year:\n",
    "* Accidents are relatively evenly distributed across the months for all severity levels.\n",
    "* There is a slight decrease in accidents of severity 3 during the winter months (November to February) while we notice an increase in accidents of severity 4 in December, likely due to weather or end of the year celebrations. Similarly, accidents of severity 1 peak during summer time.\n",
    "\n",
    "Day of Week:\n",
    "* Accidents are relatively evenly distributed across the weekdays.\n",
    "* Weekdays, especially Fridays, have higher accident rates across all severities due to increased traffic and commuting. Weekends generally see lower accident rates, indicating safer driving conditions."
   ]
  },
  {
   "cell_type": "markdown",
   "id": "d8242313-0b67-422c-b29b-7e917a7414e8",
   "metadata": {},
   "source": [
    "#### Categorical variables"
   ]
  },
  {
   "cell_type": "markdown",
   "id": "6fa336ab-459b-4a63-8e9b-b64ab20dc26c",
   "metadata": {},
   "source": [
    "To simplify our analysis, we decided to drop the \"City\" and \"County\" variables due to their high cardinality and the lack of additional context such as population size. This makes them less useful for our current scope. By excluding them, we can focus on more immediately actionable and interpretable variables."
   ]
  },
  {
   "cell_type": "code",
   "execution_count": null,
   "id": "ef7cefdf-4fb7-4247-b390-edc378765d3c",
   "metadata": {},
   "outputs": [],
   "source": [
    "categorical_cols.remove(\"City\")\n",
    "categorical_cols.remove(\"County\")\n",
    "categorical_cols.remove(\"Weather_Intensity\")"
   ]
  },
  {
   "cell_type": "code",
   "execution_count": null,
   "id": "5a0a1ce6-37d5-478c-9fa1-b8d06f34655e",
   "metadata": {},
   "outputs": [],
   "source": [
    "len(categorical_cols)"
   ]
  },
  {
   "cell_type": "code",
   "execution_count": null,
   "id": "7533a8d0-7824-444c-bc63-7aee6c44306b",
   "metadata": {},
   "outputs": [],
   "source": [
    "df_weather_grouped = df.groupby(['Weather_Category', 'Severity']).size().reset_index(name='Count')\n",
    "df_weather_grouped['Percentage'] = df_weather_grouped.groupby('Weather_Category', group_keys=False)['Count'].apply(lambda x: 100 * x / x.sum())\n",
    "\n",
    "# Plotting\n",
    "fig = px.bar(df_weather_grouped, x='Weather_Category', y='Percentage', color='Severity', barmode='group', \n",
    "             category_orders={'Severity': ['1', '2', '3', '4']},\n",
    "             labels={'Percentage': 'Percentage (%)'},\n",
    "             title='Weather Category vs Severity')\n",
    "fig.update_layout(showlegend=True, height=350, width=370)\n",
    "fig.show(config={'staticPlot': True})"
   ]
  },
  {
   "cell_type": "markdown",
   "id": "8ad6a39f-5f07-4109-b7a3-a7cbf20be51d",
   "metadata": {},
   "source": [
    "* Severity 1: Generally, all weather conditions contribute to relatively low proportions of severity 1 accidents, indicating that driving conditions may be safer under these circumstances.\n",
    "* Severity 2: Clear, cloudy, and various adverse weather conditions significantly increase the likelihood of severity 2 accidents, with precipitation, snowstorms, thunderstorms, and visibility issues having the highest impact.\n",
    "* Severity 3 and 4: While severity 2 dominates across weather categories, severe accidents (severity 3 and 4) are less frequent but still notable under adverse weather conditions such as precipitation, snowstorms, thunderstorms, and visibility issues (smoke, fog, etc.)"
   ]
  },
  {
   "cell_type": "code",
   "execution_count": null,
   "id": "b47cbdc2-f3ea-4b8f-b9d9-e23053fc8a63",
   "metadata": {},
   "outputs": [],
   "source": [
    "severities = sorted(df['Severity'].unique())\n",
    "# Store counts accross all severity levels\n",
    "all_severity_state_counts = df[\"State\"].value_counts().sort_index()\n",
    "# Create a list to hold each choropleth map figure\n",
    "figs = []\n",
    "# Loop through each severity level and create a choropleth map\n",
    "for severity in severities:\n",
    "    # Filter data for the current severity level\n",
    "    severity_data = df[df['Severity'] == severity]\n",
    "    # Count occurrences of each state for the current severity level\n",
    "    state_counts = severity_data['State'].value_counts()\n",
    "    state_counts = state_counts.div(all_severity_state_counts).reset_index()\n",
    "    state_counts.columns = ['State', 'Proportion']\n",
    "    # Create choropleth map for the current severity level\n",
    "    fig = go.Figure(data=go.Choropleth(\n",
    "        locations=state_counts['State'],\n",
    "        z=state_counts['Proportion'],\n",
    "        locationmode='USA-states',\n",
    "        colorscale='Reds',\n",
    "        colorbar=dict(title='Proportion'),\n",
    "        hoverinfo='location+z'\n",
    "    ))\n",
    "    # Update layout for the choropleth map\n",
    "    fig.update_layout(\n",
    "        height=350, width=700,\n",
    "        title=f'Proportion of Severity {severity} Accidents by State',\n",
    "        geo=dict(scope='usa', projection_type='albers usa'),\n",
    "    )\n",
    "    # Add the figure to the list\n",
    "    figs.append(fig)\n",
    "\n",
    "# Display each choropleth map separately\n",
    "for fig in figs:\n",
    "    fig.show(config={'staticPlot': True})"
   ]
  },
  {
   "cell_type": "markdown",
   "id": "8873bf01-8293-470f-8105-69f2cf597c99",
   "metadata": {},
   "source": [
    "* Generally, severity 1 accidents show less variation across states, suggesting that factors influencing minor accidents might be more uniformly managed or influenced.\n",
    "* States vary widely in terms of severity 2 accident proportions, with some states experiencing significantly higher rates, potentially due to factors like population density, weather conditions, or road infrastructure.\n",
    "* There is more variability across states for more severe accidents (severity 3 and 4), with some states having higher proportions compared to others."
   ]
  },
  {
   "cell_type": "markdown",
   "id": "1811e6c8-470f-4ebf-8185-45959abdb3be",
   "metadata": {},
   "source": [
    "#### Boolean variables"
   ]
  },
  {
   "cell_type": "code",
   "execution_count": null,
   "id": "55a9d2b5-be39-45bb-bd13-3154d5f54eb1",
   "metadata": {},
   "outputs": [],
   "source": [
    "len(boolean_cols)"
   ]
  },
  {
   "cell_type": "code",
   "execution_count": null,
   "id": "c35b03ab-6839-427d-9369-d45629afc046",
   "metadata": {},
   "outputs": [],
   "source": [
    "num_plots = len(boolean_cols)\n",
    "num_cols = 8\n",
    "num_rows = math.ceil(num_plots / num_cols)\n",
    "\n",
    "fig = make_subplots(rows=num_rows, cols=num_cols, subplot_titles=boolean_cols)\n",
    "\n",
    "# Loop through each boolean variable and create a stacked bar plot\n",
    "for i, var in enumerate(boolean_cols):\n",
    "    row = i // num_cols + 1\n",
    "    col = i % num_cols + 1\n",
    "    \n",
    "    # Group by boolean variable and Severity, then calculate percentage\n",
    "    df_grouped = df.groupby([var, 'Severity']).size().reset_index(name='Count')\n",
    "    df_grouped['Proportion'] = df_grouped.groupby(var, group_keys=False)['Count'].apply(lambda x: x / x.sum())\n",
    " \n",
    "    # Plotting\n",
    "    fig_bar = px.bar(df_grouped, x=var, y='Proportion', color='Severity', barmode='stack', \n",
    "                     category_orders={'Severity': ['1', '2', '3', '4']},\n",
    "                     labels={'Proportion': 'Proportion (%)'},\n",
    "                     title=f'{var} vs Severity').data\n",
    "    \n",
    "    # Add traces to subplot\n",
    "    for trace in fig_bar:\n",
    "        fig.add_trace(trace, row=row, col=col)\n",
    "\n",
    "# Update layout\n",
    "fig.update_layout(\n",
    "    title='Boolean Variables vs Severity',\n",
    "    height=500, width=1200,\n",
    "    showlegend=True\n",
    ")\n",
    "\n",
    "fig.show(config={'staticPlot': True})"
   ]
  },
  {
   "cell_type": "markdown",
   "id": "64950bbe-1743-4e59-a39b-3e7cb572b9d8",
   "metadata": {},
   "source": [
    "* Strong Correlation with Severity 2: Amenities, bumps, crossings, no exit, stations, stop signs, and traffic calming measures.\n",
    "* Moderate Correlation with Severity 2: Railways, traffic signals, and nighttime conditions.\n",
    "* High Correlation with Severity 3 and 4: Highways, junctions, and nighttime conditions."
   ]
  },
  {
   "cell_type": "markdown",
   "id": "5e38fba8-194e-4bd4-bcf6-575e0708f03c",
   "metadata": {},
   "source": [
    "### 3. Correlation Analysis"
   ]
  },
  {
   "cell_type": "code",
   "execution_count": null,
   "id": "fb0691ca-4be4-453c-a47f-b09478d4e032",
   "metadata": {},
   "outputs": [],
   "source": [
    "# Store results\n",
    "correlations = {'Variable': [], 'Correlation': [], 'Type': []}"
   ]
  },
  {
   "cell_type": "code",
   "execution_count": null,
   "id": "5a9c5e98-8f30-45fe-b63d-3ca6b0f65942",
   "metadata": {},
   "outputs": [],
   "source": [
    "# Spearman's Rank Correlation for numerical and time-related variables\n",
    "for var in num_vars + time_vars:\n",
    "    corr, _ = spearmanr(df[var], df['Severity'])\n",
    "    correlations['Variable'].append(var)\n",
    "    correlations['Correlation'].append(corr)\n",
    "    correlations['Type'].append('Numerical/Time')"
   ]
  },
  {
   "cell_type": "code",
   "execution_count": null,
   "id": "69d76541-0e52-42a4-bc7b-7be4303c5ae4",
   "metadata": {},
   "outputs": [],
   "source": [
    "# Chi-Square and Cramér's V for categorical variables\n",
    "for var in categorical_cols:\n",
    "    contingency_table = pd.crosstab(df[var], df['Severity'])\n",
    "    chi2, p, dof, expected = chi2_contingency(contingency_table)\n",
    "    cramers_v = np.sqrt(chi2 / (df.shape[0] * (min(contingency_table.shape) - 1)))\n",
    "    correlations['Variable'].append(var)\n",
    "    correlations['Correlation'].append(cramers_v)\n",
    "    correlations['Type'].append('Categorical')"
   ]
  },
  {
   "cell_type": "code",
   "execution_count": null,
   "id": "dea60d44-7187-48d7-a862-23ae9ec06520",
   "metadata": {},
   "outputs": [],
   "source": [
    "# Point-Biserial Correlation for boolean variables\n",
    "for var in boolean_cols:\n",
    "    corr, _ = pointbiserialr(df[var], df['Severity'])\n",
    "    correlations['Variable'].append(var)\n",
    "    correlations['Correlation'].append(corr)\n",
    "    correlations['Type'].append('Boolean')"
   ]
  },
  {
   "cell_type": "code",
   "execution_count": null,
   "id": "3ce3e7a8-fddf-43f5-9e4a-b555f3da1b73",
   "metadata": {},
   "outputs": [],
   "source": [
    "# Spearman's Rank Correlation for ordinal variables\n",
    "for var in ordinal_cols:\n",
    "    # Encode ordinal variables to numerical\n",
    "    df[var] = df[var].astype('category').cat.codes\n",
    "    corr, _ = spearmanr(df[var], df['Severity'])\n",
    "    correlations['Variable'].append(var)\n",
    "    correlations['Correlation'].append(corr)\n",
    "    correlations['Type'].append('Ordinal')"
   ]
  },
  {
   "cell_type": "code",
   "execution_count": null,
   "id": "f547eac8-e758-400c-94f1-ebeebe3513fc",
   "metadata": {},
   "outputs": [],
   "source": [
    "# Convert to DataFrame\n",
    "correlations_df = pd.DataFrame(correlations)"
   ]
  },
  {
   "cell_type": "code",
   "execution_count": null,
   "id": "49769ad8-bdf1-474c-aa3a-5f4bc549da14",
   "metadata": {},
   "outputs": [],
   "source": [
    "fig = go.Figure()\n",
    "\n",
    "# Iterate over unique types to create grouped bars\n",
    "for type_name in correlations_df['Type'].unique():\n",
    "    df_filtered = correlations_df[correlations_df['Type'] == type_name]\n",
    "    \n",
    "    fig.add_trace(\n",
    "        go.Bar(x=df_filtered['Variable'], y=df_filtered['Correlation'], name=type_name)\n",
    "    )\n",
    "\n",
    "# Update layout\n",
    "fig.update_layout(\n",
    "    title='Strength of Relationships with Severity',\n",
    "    xaxis_title='Variable',\n",
    "    yaxis_title='Correlation Coefficient',\n",
    "    xaxis_tickangle=90,\n",
    "    legend_title='Type',\n",
    "    legend=dict(x=1, y=1, traceorder='normal'),\n",
    "    barmode='group',\n",
    "    height=550,\n",
    "    width=850\n",
    ")\n",
    "\n",
    "fig.show(config={'staticPlot': True})"
   ]
  },
  {
   "cell_type": "code",
   "execution_count": null,
   "id": "d385f5d5-d70a-4f58-a428-9180bbaf8264",
   "metadata": {},
   "outputs": [],
   "source": [
    "corr_threshold = 0.1"
   ]
  },
  {
   "cell_type": "code",
   "execution_count": null,
   "id": "d198921f-1deb-4448-9400-e3c37aa077b3",
   "metadata": {},
   "outputs": [],
   "source": [
    "correlations_df[np.abs(correlations_df[\"Correlation\"]) >= corr_threshold]"
   ]
  },
  {
   "cell_type": "markdown",
   "id": "819ef163-a7da-4ac2-a74e-074eaf0c7486",
   "metadata": {},
   "source": [
    "Some variables have a relatively strong relationship with the severity of the accident. We could use them as features in a predictive model.\n",
    "* `Distance(mi)`: Strong negative correlation (-0.447) suggests it's a significant predictor.\n",
    "* `Duration(min)`: Strong negative correlation (-0.289) indicates it should be included.\n",
    "* `State`: Moderate positive correlation (0.237) implies state-specific factors affecting severity should be accounted for.\n",
    "* `Weather_Category`: Slight positive correlation (0.044) and domain knowledge suggests considering weather conditions.\n",
    "* `Is_Highway`: Moderate positive correlation (0.251) indicates the importance of distinguishing accidents on highways.\n",
    "* `Crossing`: Moderate negative correlation (-0.125) highlights the impact of accidents involving crossings.\n",
    "* `Hour`: Hourly patterns can directly relate to traffic conditions, commuter behavior, and visibility, which are critical factors influencing accident severity."
   ]
  },
  {
   "cell_type": "code",
   "execution_count": null,
   "id": "ea015bbe-e8d5-48bd-a0d8-f0abac5db35a",
   "metadata": {},
   "outputs": [],
   "source": []
  }
 ],
 "metadata": {
  "kernelspec": {
   "display_name": "dl-env",
   "language": "python",
   "name": "dl-env"
  },
  "language_info": {
   "codemirror_mode": {
    "name": "ipython",
    "version": 3
   },
   "file_extension": ".py",
   "mimetype": "text/x-python",
   "name": "python",
   "nbconvert_exporter": "python",
   "pygments_lexer": "ipython3",
   "version": "3.9.12"
  }
 },
 "nbformat": 4,
 "nbformat_minor": 5
}
