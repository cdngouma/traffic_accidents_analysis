{
 "cells": [
  {
   "cell_type": "code",
   "execution_count": 1,
   "id": "3d6205f9-f5e5-4038-a175-0524362de1db",
   "metadata": {},
   "outputs": [],
   "source": [
    "import pandas as pd\n",
    "import numpy as np\n",
    "import re"
   ]
  },
  {
   "cell_type": "code",
   "execution_count": 2,
   "id": "0b65cd4c-a156-46bf-8387-2d14d2503f9e",
   "metadata": {},
   "outputs": [
    {
     "data": {
      "text/plain": [
       "(7728394, 46)"
      ]
     },
     "execution_count": 2,
     "metadata": {},
     "output_type": "execute_result"
    }
   ],
   "source": [
    "data = pd.read_csv(\"data/US_Accidents_March23.csv\")\n",
    "data.shape"
   ]
  },
  {
   "cell_type": "markdown",
   "id": "9a00127d-da47-4e64-bbb1-44ab802237d4",
   "metadata": {},
   "source": [
    "In this notebook, we load and process The US Traffic Accident dataset for analysis and modeling. We clean the data and also extract some potentially useful information."
   ]
  },
  {
   "cell_type": "markdown",
   "id": "d1f80466-a524-4ccf-997b-c81556c464c4",
   "metadata": {
    "tags": []
   },
   "source": [
    "## 1. Dataset Overview\n",
    "\n",
    "The US Traffic Accident dataset from [Kaggle](https://www.kaggle.com/datasets/sobhanmoosavi/us-accidents) provides comprehensive information on traffic accidents across the United States from 2016 to 2023. It contains 7,728,394 rows and 24 columns, each representing a different attribute of the accidents. Here's a brief overview of some of the key columns:\n",
    "\n",
    "* `ID`: Unique identifier for each accident.\n",
    "* `Source`: Source of the accident report (e.g., 911 call, news).\n",
    "* `Severity`: Accident severity rating (on a scale from 1 to 4). 1 indicates the least impact on traffic (i.e., short delay as a result of the accident) and 4 indicates a significant impact on traffic (i.e., long delay).\n",
    "* `Start_Time`: Start time of the accident.\n",
    "* `End_Time`: Time when the impact of accident on traffic flow was dismissed.\n",
    "* `Start_Lat/Start_Lng`: Latitude and longitude where the accident started.\n",
    "* `End_Lat/End_Lng`: Latitude and longitude where the accident ended (many missing values).\n",
    "* `Distance(mi)`: The length of the road extent affected by the accident.\n",
    "* `Description`: Brief description of the accident.\n",
    "* `Street`, `City`, `County`, `State`, `Zipcode`: Location details of the accident.\n",
    "* `Country`: Country where the accident occurred (all should be the USA).\n",
    "* `Timezone`: Timezone of the accident location.\n",
    "* `Airport_Code`: Nearest airport to the accident location.\n",
    "* `Weather_Timestamp`: Time when weather data was recorded.\n",
    "* `Temperature(F)`, `Wind_Chill(F)`, `Humidity(%)`, `Pressure(in)`, `Visibility(mi)`, `Wind_Direction`, `Wind_Speed(mph)`, `Precipitation(in)`, `Weather_Condition`: Various weather-related attributes.\n",
    "* `Amenity`, `Bump`, `Crossing`, `Give_Way`, `Junction`, `No_Exit`, `Railway`, `Roundabout`, `Station`, `Stop`, `Traffic_Calming`, `Traffic_Signal`, `Turning_Loop`: Boolean indicators for the presence of specific road features.\n",
    "* `Sunrise_Sunset`, `Civil_Twilight`, `Nautical_Twilight`, `Astronomical_Twilight`: Time of day indicators related to the position of the sun."
   ]
  },
  {
   "cell_type": "markdown",
   "id": "f3a3cd2b-d9c8-482f-87a0-07ba43b7faf5",
   "metadata": {},
   "source": [
    "## 2. Data Processing"
   ]
  },
  {
   "cell_type": "markdown",
   "id": "107a028c-51c5-4505-adca-a0f9e7f730d4",
   "metadata": {
    "tags": []
   },
   "source": [
    "### 2.2. Handling Missing Values"
   ]
  },
  {
   "cell_type": "code",
   "execution_count": 3,
   "id": "9a700115-db95-4c36-bb0c-0e322f269739",
   "metadata": {},
   "outputs": [],
   "source": [
    "init_nrows = data.shape[0]"
   ]
  },
  {
   "cell_type": "code",
   "execution_count": 4,
   "id": "e58437a3-f371-4990-984c-7e072314b613",
   "metadata": {},
   "outputs": [],
   "source": [
    "missing_values = data.isnull().sum()\n",
    "missing_values = missing_values[missing_values > 0]"
   ]
  },
  {
   "cell_type": "markdown",
   "id": "013e1aec-24ba-4646-b13f-4edd50d27f83",
   "metadata": {},
   "source": [
    "Percentage of missing values per column"
   ]
  },
  {
   "cell_type": "code",
   "execution_count": 5,
   "id": "3bca7b4a-8d6e-47c3-85a4-d9090665b993",
   "metadata": {},
   "outputs": [],
   "source": [
    "#missing_values"
   ]
  },
  {
   "cell_type": "code",
   "execution_count": 6,
   "id": "0de71c9a-fcad-41d5-93b3-5b921922ef3c",
   "metadata": {},
   "outputs": [
    {
     "data": {
      "text/plain": [
       "End_Lat                  44.029355\n",
       "End_Lng                  44.029355\n",
       "Description               0.000065\n",
       "Street                    0.140637\n",
       "City                      0.003274\n",
       "Zipcode                   0.024779\n",
       "Timezone                  0.101030\n",
       "Airport_Code              0.292881\n",
       "Weather_Timestamp         1.555666\n",
       "Temperature(F)            2.120143\n",
       "Wind_Chill(F)            25.865904\n",
       "Humidity(%)               2.253301\n",
       "Pressure(in)              1.820288\n",
       "Visibility(mi)            2.291524\n",
       "Wind_Direction            2.267043\n",
       "Wind_Speed(mph)           7.391355\n",
       "Precipitation(in)        28.512858\n",
       "Weather_Condition         2.244438\n",
       "Sunrise_Sunset            0.300787\n",
       "Civil_Twilight            0.300787\n",
       "Nautical_Twilight         0.300787\n",
       "Astronomical_Twilight     0.300787\n",
       "dtype: float64"
      ]
     },
     "execution_count": 6,
     "metadata": {},
     "output_type": "execute_result"
    }
   ],
   "source": [
    "100 * missing_values / data.shape[0]"
   ]
  },
  {
   "cell_type": "markdown",
   "id": "f1c394c4-3e21-4a43-a984-1c2268eca40f",
   "metadata": {},
   "source": [
    "As we want to predict accident severity, some columns may be redundant or not useful for our predictive modeling.\n",
    "* `ID`: Unique identifier, not useful for prediction.\n",
    "* `Source`: Source of the accident report; may not impact severity directly.\n",
    "* `End_Lat/End_Lng`: High percentage of missing values and likely less useful.\n",
    "* `Description`: Free-text description; challenging to use directly without NLP techniques.\n",
    "* `Country`: All entries should be the USA, providing no variance.\n",
    "* `Airport_Code`: Specific to the nearest airport, which may not directly impact severity.\n",
    "* `Civil_Twilight`, `Nautical_Twilight`, `Astronomical_Twilight`: They could be less useful or redundant given the information provided by `Sunrise_Sunset`.\n",
    "* `Weather_Timestamp`: May be redundant but useful for verification and imputation of weather information.\n",
    "* `Wind_Chill(F)`: Given that `Wind_Chill(F)` is derived from `Temperature(F)` and `Wind_Speed(mph)`, it may be redundant.\n",
    "* `Street`: Steet names may not be useful on their own but we could use them to determine the type of road (street, highway, etc.)\n",
    "* `Timezone`: Given we have the local time and day/night status (`Sunrise_Sunset`), the time zone may not be relevant.\n",
    "* `Wind_Direction`: Compared to other weather information, `Wind_Direction` nay not have a significant importance."
   ]
  },
  {
   "cell_type": "code",
   "execution_count": 7,
   "id": "08272a0d-73ed-4534-b1f5-d8811570e63d",
   "metadata": {},
   "outputs": [],
   "source": [
    "df_clean = data.drop(columns=[\n",
    "    \"Source\", \"End_Lat\", \"End_Lng\", \"Description\", \"Country\", \"Airport_Code\", \"Civil_Twilight\", \"Wind_Direction\",\n",
    "    \"Nautical_Twilight\", \"Astronomical_Twilight\", \"Wind_Chill(F)\", \"Timezone\", \"Weather_Timestamp\", \"Zipcode\"]).copy()"
   ]
  },
  {
   "cell_type": "code",
   "execution_count": 8,
   "id": "0aeda79d-87f3-4fee-a309-8353795c4c8a",
   "metadata": {},
   "outputs": [],
   "source": [
    "del(data)"
   ]
  },
  {
   "cell_type": "markdown",
   "id": "eacaafd1-3ded-4023-94dc-f0dce810eb76",
   "metadata": {},
   "source": [
    "After removing redundant or not so useful columns, we still have a few with missing values. Most columns are missing a very small percentage of values, except for `Precipitation(in)` which is missing 28.5\\%."
   ]
  },
  {
   "cell_type": "markdown",
   "id": "9cc793c5-8b3b-4c43-8d55-3f17ec9b0c1a",
   "metadata": {},
   "source": [
    "#### Fixing DateTime datatypes and Splitting Date and Time"
   ]
  },
  {
   "cell_type": "code",
   "execution_count": 9,
   "id": "dc14971d-8e7a-427e-ac7f-8149d94d1f9e",
   "metadata": {},
   "outputs": [],
   "source": [
    "#df_clean[\"Weather_Timestamp\"] = pd.to_datetime(df_clean[\"Weather_Timestamp\"])\n",
    "df_clean[\"Start_Time\"] = pd.to_datetime(df_clean[\"Start_Time\"])\n",
    "df_clean[\"End_Time\"] = pd.to_datetime(df_clean[\"End_Time\"])"
   ]
  },
  {
   "cell_type": "code",
   "execution_count": 10,
   "id": "afdd971e-85b2-480f-9313-c48248b73370",
   "metadata": {},
   "outputs": [],
   "source": [
    "df_clean[\"Date\"] = pd.to_datetime(df_clean[\"Start_Time\"].dt.date)"
   ]
  },
  {
   "cell_type": "markdown",
   "id": "f78dbdb5-aa15-429c-8dde-8b5c6ba309cb",
   "metadata": {},
   "source": [
    "#### Remove Duplicates"
   ]
  },
  {
   "cell_type": "code",
   "execution_count": 11,
   "id": "86bcdfda-71fc-45ea-a6a6-f32bff34226c",
   "metadata": {},
   "outputs": [
    {
     "data": {
      "text/plain": [
       "140899"
      ]
     },
     "execution_count": 11,
     "metadata": {},
     "output_type": "execute_result"
    }
   ],
   "source": [
    "df_clean.drop(columns=[\"ID\"]).duplicated().sum()"
   ]
  },
  {
   "cell_type": "code",
   "execution_count": 12,
   "id": "ff7e0c2f-50d1-4145-9c58-647372cb6b49",
   "metadata": {},
   "outputs": [
    {
     "data": {
      "text/plain": [
       "(7587495, 33)"
      ]
     },
     "execution_count": 12,
     "metadata": {},
     "output_type": "execute_result"
    }
   ],
   "source": [
    "df_clean_ids = df_clean[\"ID\"].copy()\n",
    "df_clean = df_clean.drop(columns=[\"ID\"]).drop_duplicates()\n",
    "df_clean[\"ID\"] = df_clean_ids\n",
    "df_clean.shape"
   ]
  },
  {
   "cell_type": "code",
   "execution_count": 13,
   "id": "5c2671a4-6321-432a-9827-9adc69fc2c6f",
   "metadata": {},
   "outputs": [],
   "source": [
    "del(df_clean_ids)"
   ]
  },
  {
   "cell_type": "markdown",
   "id": "ab14b8cd-12c9-4bdc-90f3-f126cccf57f8",
   "metadata": {},
   "source": [
    "#### Dropping rows with missing values"
   ]
  },
  {
   "cell_type": "markdown",
   "id": "26a235f5-2fe5-4950-929a-d0ee847510a2",
   "metadata": {
    "tags": []
   },
   "source": [
    "We have 336307 unique street names and 10869 (0.14\\%) of data points have missing values. Given that it is a very small percentage, we could remove those rows."
   ]
  },
  {
   "cell_type": "code",
   "execution_count": 14,
   "id": "08b4a5da-b857-4b6a-b345-df8510e3f10b",
   "metadata": {},
   "outputs": [],
   "source": [
    "df_clean = df_clean[~df_clean[\"Street\"].isnull()]"
   ]
  },
  {
   "cell_type": "markdown",
   "id": "c6bdbe92-c723-46ba-8b44-38182789895b",
   "metadata": {},
   "source": [
    "Some city names are missing (253 entries). This is an incredibly small amount (~0.003\\%). We could also drop these rows."
   ]
  },
  {
   "cell_type": "code",
   "execution_count": 15,
   "id": "28d4e477-cefb-4378-8b0d-52cee4818a52",
   "metadata": {},
   "outputs": [],
   "source": [
    "df_clean = df_clean[~df_clean[\"City\"].isnull()]"
   ]
  },
  {
   "cell_type": "markdown",
   "id": "ef3317e3-c6ba-4222-80da-31580621eb02",
   "metadata": {},
   "source": [
    "Similar to `Street` and `City`, a small percentage of data points (0.024\\%) are missing `Zipcode`. `Zipcode` provide more granular information than `City` and `County` so a correlation analysis would be needed to determine if we keep the column or not. However, given the small number of missing values, we could drop these rows."
   ]
  },
  {
   "cell_type": "markdown",
   "id": "a31c43a6-7975-4e7e-ba21-3aa72bd8603a",
   "metadata": {},
   "source": [
    "`Temperature(F)` is a fairly useful information about weather. We could use location (`City`, `County`, etc.) and time information (`Weather_Timestamp`) to fill the missing values. However, since very few data points are missing `Temperature(F)`, we could remove those entries. A similar thing goes for other weather data."
   ]
  },
  {
   "cell_type": "code",
   "execution_count": 16,
   "id": "47745edd-fc6a-4c60-b819-c6f15fddebed",
   "metadata": {},
   "outputs": [],
   "source": [
    "df_clean = df_clean[~df_clean[\"Temperature(F)\"].isnull()]"
   ]
  },
  {
   "cell_type": "code",
   "execution_count": 17,
   "id": "4385de48-872e-40e3-b7b3-784b8bc29cc0",
   "metadata": {},
   "outputs": [],
   "source": [
    "df_clean = df_clean[~df_clean[\"Visibility(mi)\"].isnull()]"
   ]
  },
  {
   "cell_type": "code",
   "execution_count": 18,
   "id": "21384bf5-9001-4adb-b61a-84a532734fe6",
   "metadata": {},
   "outputs": [],
   "source": [
    "df_clean = df_clean[~df_clean[\"Pressure(in)\"].isnull()]"
   ]
  },
  {
   "cell_type": "code",
   "execution_count": 19,
   "id": "ca9d4f29-7a30-4725-8ce5-503b52c1b8f7",
   "metadata": {},
   "outputs": [],
   "source": [
    "df_clean = df_clean[~df_clean[\"Humidity(%)\"].isnull()]"
   ]
  },
  {
   "cell_type": "code",
   "execution_count": 20,
   "id": "cc49b9cb-d560-4fb7-ac5d-ecd56ff84a87",
   "metadata": {},
   "outputs": [],
   "source": [
    "df_clean = df_clean[~df_clean[\"Weather_Condition\"].isnull()]"
   ]
  },
  {
   "cell_type": "markdown",
   "id": "50538c41-019b-4840-9241-8b079abf948a",
   "metadata": {},
   "source": [
    "~28\\% of the data is missing values for `Precipitation(in)`. This is a significant amount so we could use imputation to fill the missing values. For instance, missing precipiation could mean there were no rain. To validate this, we could use `Weather_Condition`.\n",
    "\n",
    "Let's extract `Weather_Category` and `Weather_Intensity` information."
   ]
  },
  {
   "cell_type": "code",
   "execution_count": 21,
   "id": "3c8245ff-4c18-417c-acae-1bfa43a96a6b",
   "metadata": {},
   "outputs": [],
   "source": [
    "def extract_weather_intensity(condition):\n",
    "    intensity_terms = \"(light|heavy|patches|small|widspread|partial)\"\n",
    "    match = re.search(intensity_terms, condition.lower())\n",
    "    if match:\n",
    "        return match.group(1)\n",
    "    return \"regular\""
   ]
  },
  {
   "cell_type": "code",
   "execution_count": 22,
   "id": "6413350b-f8b5-464d-bcb0-c56592b5ea6b",
   "metadata": {},
   "outputs": [],
   "source": [
    "def extract_weather_category(condition):\n",
    "    regular_weather = \"(cloud|overcast|rain|drizzle|thunderstorm|thunder|t-storm|tornado|snow|haze|fog|mist|smoke|sand|dust|hail|squalls|ice pellets|sleet|wintry mix)\"\n",
    "    special_weather = \"(fair|clear|volcanic ash|fair windy|showers in the vicinity|n/a precipitation|fair)\"\n",
    "    match = re.search(special_weather, condition.lower())\n",
    "    if match:\n",
    "        return match.group(1)\n",
    "    match = re.search(regular_weather, condition.lower())\n",
    "    if match:\n",
    "        return match.group(1)\n",
    "    return \"other\""
   ]
  },
  {
   "cell_type": "code",
   "execution_count": 23,
   "id": "e80f9bbb-9276-4521-af0c-6c932e1c275a",
   "metadata": {},
   "outputs": [],
   "source": [
    "weather_categories = {\n",
    "    \"cloud\": \"cloudy\",\n",
    "    \"overcast\": \"cloudy\",\n",
    "    \"fair\": \"clear condition\",\n",
    "    \"clear\": \"clear condition\",\n",
    "    \"rain\": \"precipitation\",\n",
    "    \"drizzle\": \"precipitation\",\n",
    "    \"showers in the vicinity\": \"precipitation\",\n",
    "    \"t-storm\": \"thunderstorm\",\n",
    "    \"thunder\": \"thunderstorm\",\n",
    "    \"thunderstorm\": \"thunderstorm\",\n",
    "    \"wintry mix\": \"precipitation\",\n",
    "    \"n/a precipitation\": \"precipitation\",\n",
    "    \"mist\": \"precipitation\",\n",
    "    \"sleet\": \"precipitation\",\n",
    "    \"ice pellets\": \"precipitation\",\n",
    "    \"hail\": \"precipitation\",\n",
    "    \"snow\": \"snowstorm\",\n",
    "    \"fog\": \"visibility issue\",\n",
    "    \"haze\": \"visibility issue\",\n",
    "    \"smoke\": \"visibility issue\",\n",
    "    \"dust\": \"visibility issue\",\n",
    "    \"sand\": \"visibility issue\",\n",
    "    \"volcanic ash\": \"visibility issue\",\n",
    "    \"tornado\": \"extreme condition\",\n",
    "    \"squalls\": \"extreme condition\",\n",
    "}"
   ]
  },
  {
   "cell_type": "code",
   "execution_count": 24,
   "id": "6192320a-470e-475d-a0d2-b6fb086705f2",
   "metadata": {},
   "outputs": [
    {
     "name": "stdout",
     "output_type": "stream",
     "text": [
      "CPU times: total: 18.3 s\n",
      "Wall time: 19 s\n"
     ]
    }
   ],
   "source": [
    "%%time\n",
    "df_clean[\"Weather_Category\"] = df_clean[\"Weather_Condition\"].apply(extract_weather_category)\n",
    "df_clean[\"Weather_Category\"] = df_clean[\"Weather_Category\"].replace(weather_categories)"
   ]
  },
  {
   "cell_type": "code",
   "execution_count": 25,
   "id": "c3d99996-bfd3-4a11-b9f5-08011ea2e6a3",
   "metadata": {},
   "outputs": [
    {
     "data": {
      "text/plain": [
       "clear condition      3303959\n",
       "cloudy               3087383\n",
       "precipitation         534549\n",
       "visibility issue      191910\n",
       "snowstorm             155636\n",
       "thunderstorm           73094\n",
       "extreme condition         96\n",
       "Name: Weather_Category, dtype: int64"
      ]
     },
     "execution_count": 25,
     "metadata": {},
     "output_type": "execute_result"
    }
   ],
   "source": [
    "df_clean[\"Weather_Category\"].value_counts()"
   ]
  },
  {
   "cell_type": "code",
   "execution_count": 26,
   "id": "bb407431-4dee-4669-984d-eeae1a83db27",
   "metadata": {},
   "outputs": [
    {
     "name": "stdout",
     "output_type": "stream",
     "text": [
      "CPU times: total: 6.34 s\n",
      "Wall time: 6.6 s\n"
     ]
    }
   ],
   "source": [
    "%%time\n",
    "df_clean[\"Weather_Intensity\"] = df_clean[\"Weather_Condition\"].apply(extract_weather_intensity)\n",
    "df_clean[\"Weather_Intensity\"] = df_clean[\"Weather_Intensity\"].replace({\"patches\": \"light\", \"patches\": \"light\", \"small\": \"light\", \"partial\": \"light\"})"
   ]
  },
  {
   "cell_type": "code",
   "execution_count": 27,
   "id": "dbc2f40e-5ba9-4718-960f-91aa2a4e8d1e",
   "metadata": {},
   "outputs": [
    {
     "data": {
      "text/plain": [
       "regular    6760770\n",
       "light       534012\n",
       "heavy        51845\n",
       "Name: Weather_Intensity, dtype: int64"
      ]
     },
     "execution_count": 27,
     "metadata": {},
     "output_type": "execute_result"
    }
   ],
   "source": [
    "df_clean[\"Weather_Intensity\"].value_counts()"
   ]
  },
  {
   "cell_type": "markdown",
   "id": "4bfb9f49-88fb-48c7-876e-bcf3d9b8d8a4",
   "metadata": {},
   "source": [
    "We set data points with missing `Precipitation(in)` where the `Weather_Category` isn't a precipitation to 0."
   ]
  },
  {
   "cell_type": "code",
   "execution_count": 28,
   "id": "ac4b4919-b007-4380-b16e-2114ba0f8f4f",
   "metadata": {},
   "outputs": [
    {
     "data": {
      "text/plain": [
       "count    5.316802e+06\n",
       "mean     8.067124e-03\n",
       "std      9.213091e-02\n",
       "min      0.000000e+00\n",
       "25%      0.000000e+00\n",
       "50%      0.000000e+00\n",
       "75%      0.000000e+00\n",
       "max      3.647000e+01\n",
       "Name: Precipitation(in), dtype: float64"
      ]
     },
     "execution_count": 28,
     "metadata": {},
     "output_type": "execute_result"
    }
   ],
   "source": [
    "df_clean[\"Precipitation(in)\"].describe()"
   ]
  },
  {
   "cell_type": "code",
   "execution_count": 29,
   "id": "3f0d3b72-4b78-4932-b4bb-bdfefa94a21f",
   "metadata": {},
   "outputs": [],
   "source": [
    "df_clean.loc[(df_clean[\"Precipitation(in)\"].isnull()) & (df_clean[\"Weather_Category\"].str not in {\"precipitation\", \"snowstorm\", \"thunderstorm\"}), \"Precipitation(in)\"] = 0"
   ]
  },
  {
   "cell_type": "markdown",
   "id": "3245891e-cd29-4317-98a1-3e13c1cd627d",
   "metadata": {},
   "source": [
    "About 7\\% of the data is missing `Wind_Speed(mph)` and 2\\% is missing `Wind_Direction`."
   ]
  },
  {
   "cell_type": "code",
   "execution_count": 30,
   "id": "56cb5489-8a54-4edf-836e-794367222346",
   "metadata": {},
   "outputs": [
    {
     "name": "stdout",
     "output_type": "stream",
     "text": [
      "CPU times: total: 6.34 s\n",
      "Wall time: 6.67 s\n"
     ]
    }
   ],
   "source": [
    "%%time\n",
    "for category in df_clean[\"Weather_Category\"].unique():\n",
    "    median = df_clean.loc[df_clean[\"Weather_Category\"] == category, \"Wind_Speed(mph)\"].median()\n",
    "    df_clean.loc[df_clean[\"Weather_Category\"] == category, \"Wind_Speed(mph)\"] = df_clean.loc[df_clean[\"Weather_Category\"] == category, \"Wind_Speed(mph)\"].fillna(median)"
   ]
  },
  {
   "cell_type": "code",
   "execution_count": 31,
   "id": "28f2b972-cf06-4fe5-b1e5-b642dd9889f9",
   "metadata": {},
   "outputs": [
    {
     "data": {
      "text/plain": [
       "0"
      ]
     },
     "execution_count": 31,
     "metadata": {},
     "output_type": "execute_result"
    }
   ],
   "source": [
    "df_clean[\"Wind_Speed(mph)\"].isnull().sum()"
   ]
  },
  {
   "cell_type": "markdown",
   "id": "97484f72-a097-49ff-bb93-0f5362c3d4d1",
   "metadata": {},
   "source": [
    "Some rows in our dataset are missing day/time information in `Sunrise_Sunset`. We could use manually fill the missing values using the `Time` data. However, given that very few rows are missing this information (~0.3%), we could just drop them."
   ]
  },
  {
   "cell_type": "code",
   "execution_count": 32,
   "id": "f148bbca-ebee-4b0d-9459-c920ffe7c7be",
   "metadata": {},
   "outputs": [],
   "source": [
    "df_clean = df_clean[~df_clean[\"Sunrise_Sunset\"].isnull()]"
   ]
  },
  {
   "cell_type": "code",
   "execution_count": 33,
   "id": "38b0f2e2-0254-4d9e-9fc5-4b612870c659",
   "metadata": {},
   "outputs": [
    {
     "data": {
      "text/plain": [
       "0"
      ]
     },
     "execution_count": 33,
     "metadata": {},
     "output_type": "execute_result"
    }
   ],
   "source": [
    "missing_values = df_clean.isnull().sum()\n",
    "missing_values[missing_values > 0].shape[0]"
   ]
  },
  {
   "cell_type": "code",
   "execution_count": 34,
   "id": "d3e9a38d-f3d1-4def-a77e-b2b7fe9c079e",
   "metadata": {},
   "outputs": [
    {
     "name": "stdout",
     "output_type": "stream",
     "text": [
      "5.19% of the original dataset was dropped\n"
     ]
    }
   ],
   "source": [
    "print(f\"{100 * (init_nrows - df_clean.shape[0]) / init_nrows:.2f}% of the original dataset was dropped\")"
   ]
  },
  {
   "cell_type": "markdown",
   "id": "402e4055-289d-49e7-9b3c-5a6045e82ec4",
   "metadata": {},
   "source": [
    "### 2.2. Fixing Inconsistencies "
   ]
  },
  {
   "cell_type": "markdown",
   "id": "55df51df-251a-478b-a572-b6882497179e",
   "metadata": {},
   "source": [
    "#### Numerical Variables\n",
    "The values for some of the numerical variables are unrealistic, namely `Temperature(F)`, `Distance(mi)`, `Pressure(in)`, `Visibility(mi)`, and `Wind_Speed(mph)`.\n",
    "For instance, the highest recorded temperature on Earth is around 134°F so a max of 203 is unrealistic. Similarly, the highest wind speeds recorded in hurricanes and tornadoes are well below 1087 mph."
   ]
  },
  {
   "cell_type": "code",
   "execution_count": 35,
   "id": "3d3126f3-332d-43e9-90da-d1389432976c",
   "metadata": {},
   "outputs": [
    {
     "data": {
      "text/html": [
       "<div>\n",
       "<style scoped>\n",
       "    .dataframe tbody tr th:only-of-type {\n",
       "        vertical-align: middle;\n",
       "    }\n",
       "\n",
       "    .dataframe tbody tr th {\n",
       "        vertical-align: top;\n",
       "    }\n",
       "\n",
       "    .dataframe thead th {\n",
       "        text-align: right;\n",
       "    }\n",
       "</style>\n",
       "<table border=\"1\" class=\"dataframe\">\n",
       "  <thead>\n",
       "    <tr style=\"text-align: right;\">\n",
       "      <th></th>\n",
       "      <th>Severity</th>\n",
       "      <th>Start_Lat</th>\n",
       "      <th>Start_Lng</th>\n",
       "      <th>Distance(mi)</th>\n",
       "      <th>Temperature(F)</th>\n",
       "      <th>Humidity(%)</th>\n",
       "      <th>Pressure(in)</th>\n",
       "      <th>Visibility(mi)</th>\n",
       "      <th>Wind_Speed(mph)</th>\n",
       "      <th>Precipitation(in)</th>\n",
       "    </tr>\n",
       "  </thead>\n",
       "  <tbody>\n",
       "    <tr>\n",
       "      <th>count</th>\n",
       "      <td>7.327531e+06</td>\n",
       "      <td>7.327531e+06</td>\n",
       "      <td>7.327531e+06</td>\n",
       "      <td>7.327531e+06</td>\n",
       "      <td>7.327531e+06</td>\n",
       "      <td>7.327531e+06</td>\n",
       "      <td>7.327531e+06</td>\n",
       "      <td>7.327531e+06</td>\n",
       "      <td>7.327531e+06</td>\n",
       "      <td>7.327531e+06</td>\n",
       "    </tr>\n",
       "    <tr>\n",
       "      <th>mean</th>\n",
       "      <td>2.213746e+00</td>\n",
       "      <td>3.617201e+01</td>\n",
       "      <td>-9.475451e+01</td>\n",
       "      <td>5.502983e-01</td>\n",
       "      <td>6.178422e+01</td>\n",
       "      <td>6.480563e+01</td>\n",
       "      <td>2.954520e+01</td>\n",
       "      <td>9.094921e+00</td>\n",
       "      <td>7.654510e+00</td>\n",
       "      <td>5.833346e-03</td>\n",
       "    </tr>\n",
       "    <tr>\n",
       "      <th>std</th>\n",
       "      <td>4.867966e-01</td>\n",
       "      <td>5.091290e+00</td>\n",
       "      <td>1.735555e+01</td>\n",
       "      <td>1.757743e+00</td>\n",
       "      <td>1.898521e+01</td>\n",
       "      <td>2.280620e+01</td>\n",
       "      <td>9.961187e-01</td>\n",
       "      <td>2.676606e+00</td>\n",
       "      <td>5.264719e+00</td>\n",
       "      <td>7.851588e-02</td>\n",
       "    </tr>\n",
       "    <tr>\n",
       "      <th>min</th>\n",
       "      <td>1.000000e+00</td>\n",
       "      <td>2.455480e+01</td>\n",
       "      <td>-1.246238e+02</td>\n",
       "      <td>0.000000e+00</td>\n",
       "      <td>-4.500000e+01</td>\n",
       "      <td>1.000000e+00</td>\n",
       "      <td>0.000000e+00</td>\n",
       "      <td>0.000000e+00</td>\n",
       "      <td>0.000000e+00</td>\n",
       "      <td>0.000000e+00</td>\n",
       "    </tr>\n",
       "    <tr>\n",
       "      <th>25%</th>\n",
       "      <td>2.000000e+00</td>\n",
       "      <td>3.336993e+01</td>\n",
       "      <td>-1.172294e+02</td>\n",
       "      <td>0.000000e+00</td>\n",
       "      <td>4.900000e+01</td>\n",
       "      <td>4.800000e+01</td>\n",
       "      <td>2.937000e+01</td>\n",
       "      <td>1.000000e+01</td>\n",
       "      <td>4.600000e+00</td>\n",
       "      <td>0.000000e+00</td>\n",
       "    </tr>\n",
       "    <tr>\n",
       "      <th>50%</th>\n",
       "      <td>2.000000e+00</td>\n",
       "      <td>3.578004e+01</td>\n",
       "      <td>-8.784453e+01</td>\n",
       "      <td>2.400000e-02</td>\n",
       "      <td>6.400000e+01</td>\n",
       "      <td>6.700000e+01</td>\n",
       "      <td>2.986000e+01</td>\n",
       "      <td>1.000000e+01</td>\n",
       "      <td>7.000000e+00</td>\n",
       "      <td>0.000000e+00</td>\n",
       "    </tr>\n",
       "    <tr>\n",
       "      <th>75%</th>\n",
       "      <td>2.000000e+00</td>\n",
       "      <td>4.008551e+01</td>\n",
       "      <td>-8.039143e+01</td>\n",
       "      <td>4.470000e-01</td>\n",
       "      <td>7.600000e+01</td>\n",
       "      <td>8.400000e+01</td>\n",
       "      <td>3.003000e+01</td>\n",
       "      <td>1.000000e+01</td>\n",
       "      <td>1.000000e+01</td>\n",
       "      <td>0.000000e+00</td>\n",
       "    </tr>\n",
       "    <tr>\n",
       "      <th>max</th>\n",
       "      <td>4.000000e+00</td>\n",
       "      <td>4.900220e+01</td>\n",
       "      <td>-6.711317e+01</td>\n",
       "      <td>4.417500e+02</td>\n",
       "      <td>2.030000e+02</td>\n",
       "      <td>1.000000e+02</td>\n",
       "      <td>5.863000e+01</td>\n",
       "      <td>1.400000e+02</td>\n",
       "      <td>1.087000e+03</td>\n",
       "      <td>3.647000e+01</td>\n",
       "    </tr>\n",
       "  </tbody>\n",
       "</table>\n",
       "</div>"
      ],
      "text/plain": [
       "           Severity     Start_Lat     Start_Lng  Distance(mi)  Temperature(F)  \\\n",
       "count  7.327531e+06  7.327531e+06  7.327531e+06  7.327531e+06    7.327531e+06   \n",
       "mean   2.213746e+00  3.617201e+01 -9.475451e+01  5.502983e-01    6.178422e+01   \n",
       "std    4.867966e-01  5.091290e+00  1.735555e+01  1.757743e+00    1.898521e+01   \n",
       "min    1.000000e+00  2.455480e+01 -1.246238e+02  0.000000e+00   -4.500000e+01   \n",
       "25%    2.000000e+00  3.336993e+01 -1.172294e+02  0.000000e+00    4.900000e+01   \n",
       "50%    2.000000e+00  3.578004e+01 -8.784453e+01  2.400000e-02    6.400000e+01   \n",
       "75%    2.000000e+00  4.008551e+01 -8.039143e+01  4.470000e-01    7.600000e+01   \n",
       "max    4.000000e+00  4.900220e+01 -6.711317e+01  4.417500e+02    2.030000e+02   \n",
       "\n",
       "        Humidity(%)  Pressure(in)  Visibility(mi)  Wind_Speed(mph)  \\\n",
       "count  7.327531e+06  7.327531e+06    7.327531e+06     7.327531e+06   \n",
       "mean   6.480563e+01  2.954520e+01    9.094921e+00     7.654510e+00   \n",
       "std    2.280620e+01  9.961187e-01    2.676606e+00     5.264719e+00   \n",
       "min    1.000000e+00  0.000000e+00    0.000000e+00     0.000000e+00   \n",
       "25%    4.800000e+01  2.937000e+01    1.000000e+01     4.600000e+00   \n",
       "50%    6.700000e+01  2.986000e+01    1.000000e+01     7.000000e+00   \n",
       "75%    8.400000e+01  3.003000e+01    1.000000e+01     1.000000e+01   \n",
       "max    1.000000e+02  5.863000e+01    1.400000e+02     1.087000e+03   \n",
       "\n",
       "       Precipitation(in)  \n",
       "count       7.327531e+06  \n",
       "mean        5.833346e-03  \n",
       "std         7.851588e-02  \n",
       "min         0.000000e+00  \n",
       "25%         0.000000e+00  \n",
       "50%         0.000000e+00  \n",
       "75%         0.000000e+00  \n",
       "max         3.647000e+01  "
      ]
     },
     "execution_count": 35,
     "metadata": {},
     "output_type": "execute_result"
    }
   ],
   "source": [
    "df_clean.describe()"
   ]
  },
  {
   "cell_type": "markdown",
   "id": "7918bc17-f6fa-4a40-8f78-b5e6b6e18128",
   "metadata": {},
   "source": [
    "We can discard some inomalies and outliers for the numerical variables based on the following real-world observations:\n",
    "* Temperatures as low as -60 °F can be observed in extreme cold regions, while temperatures up to 130 °F can be seen in extreme hot regions.\n",
    "* Normal atmospheric pressure at sea level ranges from about 27 to 31 inches of mercury.\n",
    "* Visibility can drop to 0 in dense fog, and clear conditions might extend visibility to about 20 miles.\n",
    "* Typical wind speeds can vary from calm (0 mph) to extreme conditions like hurricanes and tornadoes, which can reach up to 150 mph."
   ]
  },
  {
   "cell_type": "code",
   "execution_count": 36,
   "id": "adce8339-7c43-4059-b432-968f46f0cb14",
   "metadata": {},
   "outputs": [
    {
     "name": "stdout",
     "output_type": "stream",
     "text": [
      "0.00053% of the data reports a temperature of over 130F\n"
     ]
    }
   ],
   "source": [
    "print(f'{100 * (df_clean[\"Temperature(F)\"] > 130).sum() / df_clean.shape[0]:.5f}% of the data reports a temperature of over 130F')\n",
    "df_clean = df_clean[df_clean[\"Temperature(F)\"] <= 130]"
   ]
  },
  {
   "cell_type": "code",
   "execution_count": 37,
   "id": "991d979c-c9da-4cd6-a1c2-379f95c479b4",
   "metadata": {},
   "outputs": [
    {
     "name": "stdout",
     "output_type": "stream",
     "text": [
      "1.26% of the data reports an atmospheric pressure outside of normal (<27 or >31)\n"
     ]
    }
   ],
   "source": [
    "print(f'{100 * ((df_clean[\"Pressure(in)\"] < 25) | (df_clean[\"Pressure(in)\"] > 31)).sum() / df_clean.shape[0]:.2f}% of the data reports an atmospheric pressure outside of normal (<27 or >31)')\n",
    "df_clean = df_clean[(df_clean[\"Pressure(in)\"] >= 25) & (df_clean[\"Pressure(in)\"] <= 31)]"
   ]
  },
  {
   "cell_type": "code",
   "execution_count": 38,
   "id": "282d98ac-9c60-47f1-a660-d49a5253a529",
   "metadata": {},
   "outputs": [
    {
     "name": "stdout",
     "output_type": "stream",
     "text": [
      "0.10450% of accident occurred with a visibility of 20 miles or more\n"
     ]
    }
   ],
   "source": [
    "print(f'{100 * (df_clean[\"Visibility(mi)\"] > 20).sum() / df_clean.shape[0]:.5f}% of accident occurred with a visibility of 20 miles or more')\n",
    "df_clean = df_clean[df_clean[\"Visibility(mi)\"] <= 20]"
   ]
  },
  {
   "cell_type": "code",
   "execution_count": 39,
   "id": "f1616e18-6fa5-497e-b574-f94e50673eeb",
   "metadata": {},
   "outputs": [
    {
     "name": "stdout",
     "output_type": "stream",
     "text": [
      "0.00066% of the data reports a wind speeds of over 150mph\n"
     ]
    }
   ],
   "source": [
    "print(f'{100 * (df_clean[\"Wind_Speed(mph)\"] > 150).sum() / df_clean.shape[0]:.5f}% of the data reports a wind speeds of over 150mph')\n",
    "df_clean = df_clean[df_clean[\"Wind_Speed(mph)\"] <= 150]"
   ]
  },
  {
   "cell_type": "code",
   "execution_count": 40,
   "id": "d78f6c5f-021b-4ac0-a920-2f05e798c16c",
   "metadata": {},
   "outputs": [
    {
     "name": "stdout",
     "output_type": "stream",
     "text": [
      "6.48% of the original dataset was dropped\n"
     ]
    }
   ],
   "source": [
    "print(f\"{100 * (init_nrows - df_clean.shape[0]) / init_nrows:.2f}% of the original dataset was dropped\")"
   ]
  },
  {
   "cell_type": "markdown",
   "id": "c3291c07-4783-4a52-b5b6-16d8aebbb630",
   "metadata": {},
   "source": [
    "#### Boolean Variables"
   ]
  },
  {
   "cell_type": "markdown",
   "id": "f7ba1b84-893e-432e-8393-98bb456319fc",
   "metadata": {},
   "source": [
    "No aparent incosistencies as all were automatically detected as `bool`."
   ]
  },
  {
   "cell_type": "markdown",
   "id": "17f1a52a-2229-496b-bab9-5dc9af7d2593",
   "metadata": {},
   "source": [
    "#### Categorical Variables"
   ]
  },
  {
   "cell_type": "code",
   "execution_count": 41,
   "id": "7bf1c856-f1d7-4af4-89fb-47141e8cc55e",
   "metadata": {},
   "outputs": [
    {
     "data": {
      "text/plain": [
       "array(['Dayton', 'Reynoldsburg', 'Williamsburg', ..., 'Ness City',\n",
       "       'Clarksdale', 'American Fork-Pleasant Grove'], dtype=object)"
      ]
     },
     "execution_count": 41,
     "metadata": {},
     "output_type": "execute_result"
    }
   ],
   "source": [
    "df_clean[\"City\"].unique()"
   ]
  },
  {
   "cell_type": "code",
   "execution_count": 42,
   "id": "d19b22d4-54a9-4bf3-92e2-ae5a65237203",
   "metadata": {},
   "outputs": [
    {
     "data": {
      "text/plain": [
       "array(['Montgomery', 'Franklin', 'Clermont', ..., 'Woods', 'Mellette',\n",
       "       'Ness'], dtype=object)"
      ]
     },
     "execution_count": 42,
     "metadata": {},
     "output_type": "execute_result"
    }
   ],
   "source": [
    "df_clean[\"County\"].unique()"
   ]
  },
  {
   "cell_type": "markdown",
   "id": "9bd978f2-d29e-487e-8770-436b8cab82fe",
   "metadata": {},
   "source": [
    "Only data from the State of Alaska is missing."
   ]
  },
  {
   "cell_type": "code",
   "execution_count": 43,
   "id": "2f066583-99b0-4636-a9bd-08617c481b2f",
   "metadata": {},
   "outputs": [
    {
     "data": {
      "text/plain": [
       "array(['OH', 'WV', 'CA', 'FL', 'GA', 'SC', 'NE', 'IA', 'IL', 'MO', 'WI',\n",
       "       'IN', 'MI', 'NJ', 'NY', 'CT', 'MA', 'RI', 'NH', 'PA', 'KY', 'MD',\n",
       "       'VA', 'DC', 'DE', 'TX', 'WA', 'OR', 'AL', 'NC', 'AZ', 'TN', 'LA',\n",
       "       'MN', 'OK', 'NV', 'UT', 'KS', 'NM', 'AR', 'CO', 'MS', 'ME', 'VT',\n",
       "       'ID', 'ND', 'MT', 'SD', 'WY'], dtype=object)"
      ]
     },
     "execution_count": 43,
     "metadata": {},
     "output_type": "execute_result"
    }
   ],
   "source": [
    "df_clean[\"State\"].unique()"
   ]
  },
  {
   "cell_type": "markdown",
   "id": "9600a68a-7ab3-4b1e-ae63-f52d103ac1cc",
   "metadata": {},
   "source": [
    "### 2.3. Extract More Data and Rename Columns"
   ]
  },
  {
   "cell_type": "markdown",
   "id": "acf9bd3a-b21b-4189-9353-7da72994c6e9",
   "metadata": {},
   "source": [
    "We can extract the road type from the `Street` name."
   ]
  },
  {
   "cell_type": "code",
   "execution_count": 44,
   "id": "24b7b194-153c-423c-9b9b-39b901f32dee",
   "metadata": {},
   "outputs": [],
   "source": [
    "def road_type(street_name):\n",
    "    # Check if the street name contains common highway prefixes or suffixes\n",
    "    highway_prefixes = ['I-', 'US-', 'SR-', 'HWY', 'INTERSTATE', 'US HIGHWAY', 'STATE ROUTE']\n",
    "    highway_suffixes = ['INTERSTATE', 'HIGHWAY', 'EXPRESSWAY', 'TURNPIKE', 'PARKWAY', 'ROUTE']\n",
    "    \n",
    "    for prefix in highway_prefixes:\n",
    "        if street_name.upper().startswith(prefix):\n",
    "            return 'Highway'\n",
    "    \n",
    "    for suffix in highway_suffixes:\n",
    "        if street_name.upper().endswith(suffix):\n",
    "            return 'Highway'\n",
    "    \n",
    "    return 'Local Road'"
   ]
  },
  {
   "cell_type": "code",
   "execution_count": 45,
   "id": "7ae9d4a7-74a0-4bc8-9aba-ca1b8d7cb9e2",
   "metadata": {},
   "outputs": [],
   "source": [
    "df_clean[\"Road_Type\"] = df_clean[\"Street\"].apply(road_type)"
   ]
  },
  {
   "cell_type": "code",
   "execution_count": 46,
   "id": "8ae7201c-f290-45f2-97fb-0c1c0a94703e",
   "metadata": {},
   "outputs": [
    {
     "data": {
      "text/plain": [
       "Local Road    5215438\n",
       "Highway       2012187\n",
       "Name: Road_Type, dtype: int64"
      ]
     },
     "execution_count": 46,
     "metadata": {},
     "output_type": "execute_result"
    }
   ],
   "source": [
    "df_clean[\"Road_Type\"].value_counts()"
   ]
  },
  {
   "cell_type": "markdown",
   "id": "a6bc9857-d650-4537-8435-48cb216e0fd9",
   "metadata": {},
   "source": [
    "We can also extract time related data from the `Start_Time` and `End_Time`"
   ]
  },
  {
   "cell_type": "code",
   "execution_count": 47,
   "id": "5fa29448-e221-4100-a1c5-332f64e51dba",
   "metadata": {},
   "outputs": [],
   "source": [
    "df_clean[\"Duration(min)\"] = (df_clean[\"End_Time\"] - df_clean[\"Start_Time\"]).dt.total_seconds() / 60"
   ]
  },
  {
   "cell_type": "code",
   "execution_count": 48,
   "id": "425d4bf9-ccdf-4749-9dca-1ab11e6ea738",
   "metadata": {},
   "outputs": [
    {
     "data": {
      "text/plain": [
       "count    7.227625e+06\n",
       "mean     3.913585e+02\n",
       "std      1.250362e+04\n",
       "min      1.216667e+00\n",
       "25%      3.036667e+01\n",
       "50%      7.430000e+01\n",
       "75%      1.243167e+02\n",
       "max      2.812939e+06\n",
       "Name: Duration(min), dtype: float64"
      ]
     },
     "execution_count": 48,
     "metadata": {},
     "output_type": "execute_result"
    }
   ],
   "source": [
    "df_clean[\"Duration(min)\"].describe()"
   ]
  },
  {
   "cell_type": "markdown",
   "id": "329a8f30-c798-40e3-8441-553ada04827c",
   "metadata": {},
   "source": [
    "3948 (0.054\\%) of reported accident in the dataset had an impact on traffic flow for more than 24h. Those are either anomalies in the dataset or extremely rare cases. We could therefore remove these rows."
   ]
  },
  {
   "cell_type": "code",
   "execution_count": 49,
   "id": "093203de-c72c-4fb1-814e-9d5d3455a67d",
   "metadata": {},
   "outputs": [],
   "source": [
    "df_clean = df_clean[df_clean[\"Duration(min)\"] <= 24*60*60]"
   ]
  },
  {
   "cell_type": "code",
   "execution_count": 50,
   "id": "3af79ec7-f1ce-4aa6-ae57-7bd60c469466",
   "metadata": {},
   "outputs": [],
   "source": [
    "df_clean[\"Hour\"] = df_clean[\"Start_Time\"].dt.hour"
   ]
  },
  {
   "cell_type": "code",
   "execution_count": 51,
   "id": "b10befbd-9a0c-42f8-b9b7-906ec9c47842",
   "metadata": {},
   "outputs": [],
   "source": [
    "df_clean[\"Day\"] = df_clean[\"Start_Time\"].dt.day"
   ]
  },
  {
   "cell_type": "code",
   "execution_count": 52,
   "id": "c47ee995-845c-46dc-9ef2-6ac88be7682e",
   "metadata": {},
   "outputs": [],
   "source": [
    "df_clean[\"Day_of_Week\"] = df_clean[\"Start_Time\"].dt.dayofweek"
   ]
  },
  {
   "cell_type": "code",
   "execution_count": 53,
   "id": "4caf8713-6adb-477a-825c-d30dca39917d",
   "metadata": {},
   "outputs": [],
   "source": [
    "df_clean[\"Month\"] = df_clean[\"Start_Time\"].dt.month"
   ]
  },
  {
   "cell_type": "code",
   "execution_count": 54,
   "id": "c6dc37e6-5208-4043-a6e3-575264fd327e",
   "metadata": {},
   "outputs": [],
   "source": [
    "df_clean[\"Year\"] = df_clean[\"Start_Time\"].dt.year"
   ]
  },
  {
   "cell_type": "markdown",
   "id": "125f3441-5ed9-49ae-bf4c-b6d11617667e",
   "metadata": {},
   "source": [
    "Convert columns to boolean"
   ]
  },
  {
   "cell_type": "code",
   "execution_count": 55,
   "id": "3b95797e-6b6a-4b45-80a8-9ff7892a56c9",
   "metadata": {},
   "outputs": [],
   "source": [
    "df_clean = df_clean.rename(columns={\"Sunrise_Sunset\": \"Is_Night\"})\n",
    "df_clean[\"Is_Night\"] = df_clean[\"Is_Night\"] == \"Night\""
   ]
  },
  {
   "cell_type": "code",
   "execution_count": 56,
   "id": "5b1e42ed-9587-4f44-96b6-301a0f44dcab",
   "metadata": {},
   "outputs": [],
   "source": [
    "df_clean = df_clean.rename(columns={\"Road_Type\": \"Is_Highway\"})\n",
    "df_clean[\"Is_Highway\"] = df_clean[\"Is_Highway\"] == \"Highway\""
   ]
  },
  {
   "cell_type": "markdown",
   "id": "1cdb39b0-8f3c-446f-bb42-89d0f304f638",
   "metadata": {},
   "source": [
    "Final columns"
   ]
  },
  {
   "cell_type": "code",
   "execution_count": 57,
   "id": "7aec9244-a4ac-41e7-882a-0e1fab081613",
   "metadata": {},
   "outputs": [
    {
     "data": {
      "text/plain": [
       "Severity             0\n",
       "Start_Time           0\n",
       "End_Time             0\n",
       "Start_Lat            0\n",
       "Start_Lng            0\n",
       "Distance(mi)         0\n",
       "Street               0\n",
       "City                 0\n",
       "County               0\n",
       "State                0\n",
       "Temperature(F)       0\n",
       "Humidity(%)          0\n",
       "Pressure(in)         0\n",
       "Visibility(mi)       0\n",
       "Wind_Speed(mph)      0\n",
       "Precipitation(in)    0\n",
       "Weather_Condition    0\n",
       "Amenity              0\n",
       "Bump                 0\n",
       "Crossing             0\n",
       "Give_Way             0\n",
       "Junction             0\n",
       "No_Exit              0\n",
       "Railway              0\n",
       "Roundabout           0\n",
       "Station              0\n",
       "Stop                 0\n",
       "Traffic_Calming      0\n",
       "Traffic_Signal       0\n",
       "Turning_Loop         0\n",
       "Is_Night             0\n",
       "Date                 0\n",
       "ID                   0\n",
       "Weather_Category     0\n",
       "Weather_Intensity    0\n",
       "Is_Highway           0\n",
       "Duration(min)        0\n",
       "Hour                 0\n",
       "Day                  0\n",
       "Day_of_Week          0\n",
       "Month                0\n",
       "Year                 0\n",
       "dtype: int64"
      ]
     },
     "execution_count": 57,
     "metadata": {},
     "output_type": "execute_result"
    }
   ],
   "source": [
    "df_clean.isnull().sum()"
   ]
  },
  {
   "cell_type": "code",
   "execution_count": 58,
   "id": "dde417f2-1af4-4bbf-ac9d-c0dd52373b3a",
   "metadata": {},
   "outputs": [
    {
     "name": "stdout",
     "output_type": "stream",
     "text": [
      "6.53% of the original dataset was dropped\n"
     ]
    }
   ],
   "source": [
    "print(f\"{100 * (init_nrows - df_clean.shape[0]) / init_nrows:.2f}% of the original dataset was dropped\")"
   ]
  },
  {
   "cell_type": "markdown",
   "id": "59500498-5d81-4732-8406-3c3f92ab4de9",
   "metadata": {},
   "source": [
    "### 2.4. Save Clean Data"
   ]
  },
  {
   "cell_type": "code",
   "execution_count": 59,
   "id": "240c0bce-4b2e-489d-9d8e-00ead4c0520b",
   "metadata": {},
   "outputs": [
    {
     "name": "stdout",
     "output_type": "stream",
     "text": [
      "<class 'pandas.core.frame.DataFrame'>\n",
      "Int64Index: 7223677 entries, 0 to 7728393\n",
      "Data columns (total 42 columns):\n",
      " #   Column             Dtype         \n",
      "---  ------             -----         \n",
      " 0   Severity           int64         \n",
      " 1   Start_Time         datetime64[ns]\n",
      " 2   End_Time           datetime64[ns]\n",
      " 3   Start_Lat          float64       \n",
      " 4   Start_Lng          float64       \n",
      " 5   Distance(mi)       float64       \n",
      " 6   Street             object        \n",
      " 7   City               object        \n",
      " 8   County             object        \n",
      " 9   State              object        \n",
      " 10  Temperature(F)     float64       \n",
      " 11  Humidity(%)        float64       \n",
      " 12  Pressure(in)       float64       \n",
      " 13  Visibility(mi)     float64       \n",
      " 14  Wind_Speed(mph)    float64       \n",
      " 15  Precipitation(in)  float64       \n",
      " 16  Weather_Condition  object        \n",
      " 17  Amenity            bool          \n",
      " 18  Bump               bool          \n",
      " 19  Crossing           bool          \n",
      " 20  Give_Way           bool          \n",
      " 21  Junction           bool          \n",
      " 22  No_Exit            bool          \n",
      " 23  Railway            bool          \n",
      " 24  Roundabout         bool          \n",
      " 25  Station            bool          \n",
      " 26  Stop               bool          \n",
      " 27  Traffic_Calming    bool          \n",
      " 28  Traffic_Signal     bool          \n",
      " 29  Turning_Loop       bool          \n",
      " 30  Is_Night           bool          \n",
      " 31  Date               datetime64[ns]\n",
      " 32  ID                 object        \n",
      " 33  Weather_Category   object        \n",
      " 34  Weather_Intensity  object        \n",
      " 35  Is_Highway         bool          \n",
      " 36  Duration(min)      float64       \n",
      " 37  Hour               int64         \n",
      " 38  Day                int64         \n",
      " 39  Day_of_Week        int64         \n",
      " 40  Month              int64         \n",
      " 41  Year               int64         \n",
      "dtypes: bool(15), datetime64[ns](3), float64(10), int64(6), object(8)\n",
      "memory usage: 1.6+ GB\n"
     ]
    }
   ],
   "source": [
    "df_clean.info()"
   ]
  },
  {
   "cell_type": "code",
   "execution_count": 60,
   "id": "3c6f8c6e-0559-4900-82bc-1743fbd63819",
   "metadata": {},
   "outputs": [],
   "source": [
    "df_clean.to_csv(\"data/US_Accidents_March23_Clean.csv\", index=False)"
   ]
  },
  {
   "cell_type": "code",
   "execution_count": null,
   "id": "9e22c3e8-e8f4-4319-b4e2-4620c42a1fe1",
   "metadata": {},
   "outputs": [],
   "source": []
  }
 ],
 "metadata": {
  "kernelspec": {
   "display_name": "dl-env",
   "language": "python",
   "name": "dl-env"
  },
  "language_info": {
   "codemirror_mode": {
    "name": "ipython",
    "version": 3
   },
   "file_extension": ".py",
   "mimetype": "text/x-python",
   "name": "python",
   "nbconvert_exporter": "python",
   "pygments_lexer": "ipython3",
   "version": "3.9.12"
  }
 },
 "nbformat": 4,
 "nbformat_minor": 5
}
