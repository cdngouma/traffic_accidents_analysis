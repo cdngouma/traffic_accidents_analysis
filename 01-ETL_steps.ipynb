{
 "cells": [
  {
   "cell_type": "code",
   "execution_count": 1,
   "id": "3d6205f9-f5e5-4038-a175-0524362de1db",
   "metadata": {},
   "outputs": [],
   "source": [
    "import pandas as pd\n",
    "import numpy as np\n",
    "import re"
   ]
  },
  {
   "cell_type": "markdown",
   "id": "9a00127d-da47-4e64-bbb1-44ab802237d4",
   "metadata": {},
   "source": [
    "In this notebook, we load and process The US Traffic Accident dataset for analysis and modeling. We clean the data and also extract some potentially useful information."
   ]
  },
  {
   "cell_type": "markdown",
   "id": "d1f80466-a524-4ccf-997b-c81556c464c4",
   "metadata": {
    "tags": []
   },
   "source": [
    "## 1. Dataset Overview\n",
    "\n",
    "The US Traffic Accident dataset from [Kaggle](https://www.kaggle.com/datasets/sobhanmoosavi/us-accidents) provides comprehensive information on traffic accidents across the United States from 2016 to 2023. It contains 7,728,394 rows and 24 columns, each representing a different attribute of the accidents. Here's a brief overview of some of the key columns:\n",
    "\n",
    "* `ID`: Unique identifier for each accident.\n",
    "* `Source`: Source of the accident report (e.g., 911 call, news).\n",
    "* `Severity`: Accident severity rating (on a scale from 1 to 4). 1 indicates the least impact on traffic (i.e., short delay as a result of the accident) and 4 indicates a significant impact on traffic (i.e., long delay).\n",
    "* `Start_Time`: Start time of the accident.\n",
    "* `End_Time`: Time when the impact of accident on traffic flow was dismissed.\n",
    "* `Start_Lat/Start_Lng`: Latitude and longitude where the accident started.\n",
    "* `End_Lat/End_Lng`: Latitude and longitude where the accident ended (many missing values).\n",
    "* `Distance(mi)`: The length of the road extent affected by the accident.\n",
    "* `Description`: Brief description of the accident.\n",
    "* `Street`, `City`, `County`, `State`, `Zipcode`: Location details of the accident.\n",
    "* `Country`: Country where the accident occurred (all should be the USA).\n",
    "* `Timezone`: Timezone of the accident location.\n",
    "* `Airport_Code`: Nearest airport to the accident location.\n",
    "* `Weather_Timestamp`: Time when weather data was recorded.\n",
    "* `Temperature(F)`, `Wind_Chill(F)`, `Humidity(%)`, `Pressure(in)`, `Visibility(mi)`, `Wind_Direction`, `Wind_Speed(mph)`, `Precipitation(in)`, `Weather_Condition`: Various weather-related attributes.\n",
    "* `Amenity`, `Bump`, `Crossing`, `Give_Way`, `Junction`, `No_Exit`, `Railway`, `Roundabout`, `Station`, `Stop`, `Traffic_Calming`, `Traffic_Signal`, `Turning_Loop`: Boolean indicators for the presence of specific road features.\n",
    "* `Sunrise_Sunset`, `Civil_Twilight`, `Nautical_Twilight`, `Astronomical_Twilight`: Time of day indicators related to the position of the sun."
   ]
  },
  {
   "cell_type": "markdown",
   "id": "f3a3cd2b-d9c8-482f-87a0-07ba43b7faf5",
   "metadata": {},
   "source": [
    "## 2. ETL Steps"
   ]
  },
  {
   "cell_type": "markdown",
   "id": "2e5d333b-d8c8-4ae1-a407-0935c42e8eee",
   "metadata": {},
   "source": [
    "### 2.1. Data Extraction"
   ]
  },
  {
   "cell_type": "code",
   "execution_count": 2,
   "id": "0b65cd4c-a156-46bf-8387-2d14d2503f9e",
   "metadata": {},
   "outputs": [
    {
     "data": {
      "text/plain": [
       "(7728394, 46)"
      ]
     },
     "execution_count": 2,
     "metadata": {},
     "output_type": "execute_result"
    }
   ],
   "source": [
    "data = pd.read_csv(\"data/US_Accidents_March23.csv\")\n",
    "data.shape"
   ]
  },
  {
   "cell_type": "code",
   "execution_count": 3,
   "id": "8c822b21-535f-426f-a28d-192c3384fdd2",
   "metadata": {},
   "outputs": [],
   "source": [
    "init_nrows = data.shape[0]"
   ]
  },
  {
   "cell_type": "markdown",
   "id": "18db4f50-09b8-401c-b2ff-c6d71c6160ac",
   "metadata": {},
   "source": [
    "### 2.2. Data Transformation"
   ]
  },
  {
   "cell_type": "markdown",
   "id": "a92e2bd9-7247-42a9-aa38-9dbd484584ff",
   "metadata": {},
   "source": [
    "#### Drop Redundant and Irrelevant columns\n",
    "Certain columns may not add much value to the predictive modeling process such as `End_Lat`, `Zipcode`, `Airport_code`, etc."
   ]
  },
  {
   "cell_type": "code",
   "execution_count": 4,
   "id": "bc1c6d93-cfff-49f4-8213-97118b827c91",
   "metadata": {},
   "outputs": [],
   "source": [
    "df_clean = data.drop(columns=[\n",
    "    \"Source\", \"End_Lat\", \"End_Lng\", \"Description\", \"Country\", \"Airport_Code\", \"Civil_Twilight\", \"Wind_Direction\",\n",
    "    \"Nautical_Twilight\", \"Astronomical_Twilight\", \"Wind_Chill(F)\", \"Timezone\", \"Weather_Timestamp\", \"Zipcode\"]).copy()"
   ]
  },
  {
   "cell_type": "code",
   "execution_count": 5,
   "id": "8b56ad61-48f3-4dad-8cb0-845aeee320f7",
   "metadata": {},
   "outputs": [],
   "source": [
    "del(data)"
   ]
  },
  {
   "cell_type": "markdown",
   "id": "aec99ebd-100a-463d-8d0a-011958ac7135",
   "metadata": {},
   "source": [
    "#### Fix Data Types"
   ]
  },
  {
   "cell_type": "code",
   "execution_count": 6,
   "id": "ea6cd9a3-c784-45c0-8a2c-5ce30f9edb6c",
   "metadata": {},
   "outputs": [],
   "source": [
    "df_clean[\"Start_Time\"] = pd.to_datetime(df_clean[\"Start_Time\"])\n",
    "df_clean[\"End_Time\"] = pd.to_datetime(df_clean[\"End_Time\"])"
   ]
  },
  {
   "cell_type": "markdown",
   "id": "fb0e5d33-49c1-4550-8688-8819e57460d4",
   "metadata": {},
   "source": [
    "#### Remove Duplicates\n",
    "There are 140899 (0.18%) duplicated entries in the dataset."
   ]
  },
  {
   "cell_type": "code",
   "execution_count": 7,
   "id": "9a2898e4-f29e-4c18-b18f-0cd07619becf",
   "metadata": {},
   "outputs": [
    {
     "data": {
      "text/plain": [
       "140899"
      ]
     },
     "execution_count": 7,
     "metadata": {},
     "output_type": "execute_result"
    }
   ],
   "source": [
    "df_clean.drop(columns=[\"ID\"]).duplicated().sum()# / len(df_clean)"
   ]
  },
  {
   "cell_type": "code",
   "execution_count": 8,
   "id": "e44888f1-60c3-4ff3-8c84-045f4c24257e",
   "metadata": {},
   "outputs": [],
   "source": [
    "df_clean = df_clean.drop(columns=[\"ID\"]).drop_duplicates()"
   ]
  },
  {
   "cell_type": "markdown",
   "id": "be3cc989-3eae-4ad0-85da-4742cb61c8af",
   "metadata": {},
   "source": [
    "#### Handle Missing Values"
   ]
  },
  {
   "cell_type": "code",
   "execution_count": 10,
   "id": "af9371ec-ca7e-4b32-b120-dc5160acfb8d",
   "metadata": {},
   "outputs": [],
   "source": [
    "missing_values = df_clean.isnull().sum()\n",
    "missing_values = missing_values[missing_values > 0]"
   ]
  },
  {
   "cell_type": "code",
   "execution_count": 13,
   "id": "131664bf-88d2-41c7-9bb6-edc9c8cc7824",
   "metadata": {},
   "outputs": [
    {
     "data": {
      "text/plain": [
       "Street                0.139559\n",
       "City                  0.003295\n",
       "Temperature(F)        2.101590\n",
       "Humidity(%)           2.233003\n",
       "Pressure(in)          1.803599\n",
       "Visibility(mi)        2.273899\n",
       "Wind_Speed(mph)       7.445606\n",
       "Precipitation(in)    28.850615\n",
       "Weather_Condition     2.226453\n",
       "Sunrise_Sunset        0.297555\n",
       "dtype: float64"
      ]
     },
     "execution_count": 13,
     "metadata": {},
     "output_type": "execute_result"
    }
   ],
   "source": [
    "# Print percentage of missing values per column\n",
    "100 * missing_values / df_clean.shape[0]"
   ]
  },
  {
   "cell_type": "markdown",
   "id": "fc19d879-b470-4aa8-b6c6-7eec8f95079a",
   "metadata": {},
   "source": [
    "Some columns are missing a very small percentage of their data (less than 2%). We could safely remove those rows."
   ]
  },
  {
   "cell_type": "code",
   "execution_count": 14,
   "id": "ab4b825f-0875-4e47-b5f6-15fe285e083e",
   "metadata": {},
   "outputs": [],
   "source": [
    "df_clean = df_clean[~df_clean[\"Street\"].isnull()]\n",
    "df_clean = df_clean[~df_clean[\"City\"].isnull()]\n",
    "df_clean = df_clean[~df_clean[\"Temperature(F)\"].isnull()]\n",
    "df_clean = df_clean[~df_clean[\"Visibility(mi)\"].isnull()]\n",
    "df_clean = df_clean[~df_clean[\"Pressure(in)\"].isnull()]\n",
    "df_clean = df_clean[~df_clean[\"Humidity(%)\"].isnull()]\n",
    "df_clean = df_clean[~df_clean[\"Weather_Condition\"].isnull()]"
   ]
  },
  {
   "cell_type": "markdown",
   "id": "515f755c-ccce-45e2-9722-5236228bcb0c",
   "metadata": {},
   "source": [
    "Some rows in our dataset are missing day/time information in `Sunrise_Sunset`. We could use manually fill the missing values using the `Time` data. However, given that very few rows are missing this information (~0.3%), we could just drop them."
   ]
  },
  {
   "cell_type": "code",
   "execution_count": 15,
   "id": "df3a399b-f00c-4f72-b3c3-c5fa9f68eab7",
   "metadata": {},
   "outputs": [],
   "source": [
    "df_clean = df_clean[~df_clean[\"Sunrise_Sunset\"].isnull()]"
   ]
  },
  {
   "cell_type": "markdown",
   "id": "b8bad056-5435-4360-9bdd-7b1f825479ef",
   "metadata": {},
   "source": [
    "~28\\% of the data is missing values for `Precipitation(in)`. This is a significant amount so we could use imputation to fill the missing values. For instance, missing precipiation could mean there were no rain. To validate this, we could use `Weather_Condition` after more processing."
   ]
  },
  {
   "cell_type": "markdown",
   "id": "b091fea9-b38f-42d8-abfe-077e6d35f982",
   "metadata": {},
   "source": [
    "About 7\\% of the data is missing `Wind_Speed(mph)` and 2\\% is missing `Wind_Direction`. Similarly to `Precipitatiom(in)`, we could use information from `Weather_Category` to fill the missing values after more processing."
   ]
  },
  {
   "cell_type": "markdown",
   "id": "3e280414-0a08-41c9-8394-4f38812833e6",
   "metadata": {},
   "source": [
    "#### Fix Inconsistencies"
   ]
  },
  {
   "cell_type": "code",
   "execution_count": 16,
   "id": "5667ad21-8e68-4cdd-9bb7-0be701d51ee0",
   "metadata": {},
   "outputs": [
    {
     "data": {
      "text/html": [
       "<div>\n",
       "<style scoped>\n",
       "    .dataframe tbody tr th:only-of-type {\n",
       "        vertical-align: middle;\n",
       "    }\n",
       "\n",
       "    .dataframe tbody tr th {\n",
       "        vertical-align: top;\n",
       "    }\n",
       "\n",
       "    .dataframe thead th {\n",
       "        text-align: right;\n",
       "    }\n",
       "</style>\n",
       "<table border=\"1\" class=\"dataframe\">\n",
       "  <thead>\n",
       "    <tr style=\"text-align: right;\">\n",
       "      <th></th>\n",
       "      <th>Severity</th>\n",
       "      <th>Start_Lat</th>\n",
       "      <th>Start_Lng</th>\n",
       "      <th>Distance(mi)</th>\n",
       "      <th>Temperature(F)</th>\n",
       "      <th>Humidity(%)</th>\n",
       "      <th>Pressure(in)</th>\n",
       "      <th>Visibility(mi)</th>\n",
       "      <th>Wind_Speed(mph)</th>\n",
       "      <th>Precipitation(in)</th>\n",
       "    </tr>\n",
       "  </thead>\n",
       "  <tbody>\n",
       "    <tr>\n",
       "      <th>count</th>\n",
       "      <td>7.327531e+06</td>\n",
       "      <td>7.327531e+06</td>\n",
       "      <td>7.327531e+06</td>\n",
       "      <td>7.327531e+06</td>\n",
       "      <td>7.327531e+06</td>\n",
       "      <td>7.327531e+06</td>\n",
       "      <td>7.327531e+06</td>\n",
       "      <td>7.327531e+06</td>\n",
       "      <td>6.919538e+06</td>\n",
       "      <td>5.297867e+06</td>\n",
       "    </tr>\n",
       "    <tr>\n",
       "      <th>mean</th>\n",
       "      <td>2.213746e+00</td>\n",
       "      <td>3.617201e+01</td>\n",
       "      <td>-9.475451e+01</td>\n",
       "      <td>5.502983e-01</td>\n",
       "      <td>6.178422e+01</td>\n",
       "      <td>6.480563e+01</td>\n",
       "      <td>2.954520e+01</td>\n",
       "      <td>9.094921e+00</td>\n",
       "      <td>7.700647e+00</td>\n",
       "      <td>8.068156e-03</td>\n",
       "    </tr>\n",
       "    <tr>\n",
       "      <th>std</th>\n",
       "      <td>4.867966e-01</td>\n",
       "      <td>5.091290e+00</td>\n",
       "      <td>1.735555e+01</td>\n",
       "      <td>1.757743e+00</td>\n",
       "      <td>1.898521e+01</td>\n",
       "      <td>2.280620e+01</td>\n",
       "      <td>9.961187e-01</td>\n",
       "      <td>2.676606e+00</td>\n",
       "      <td>5.407158e+00</td>\n",
       "      <td>9.224145e-02</td>\n",
       "    </tr>\n",
       "    <tr>\n",
       "      <th>min</th>\n",
       "      <td>1.000000e+00</td>\n",
       "      <td>2.455480e+01</td>\n",
       "      <td>-1.246238e+02</td>\n",
       "      <td>0.000000e+00</td>\n",
       "      <td>-4.500000e+01</td>\n",
       "      <td>1.000000e+00</td>\n",
       "      <td>0.000000e+00</td>\n",
       "      <td>0.000000e+00</td>\n",
       "      <td>0.000000e+00</td>\n",
       "      <td>0.000000e+00</td>\n",
       "    </tr>\n",
       "    <tr>\n",
       "      <th>25%</th>\n",
       "      <td>2.000000e+00</td>\n",
       "      <td>3.336993e+01</td>\n",
       "      <td>-1.172294e+02</td>\n",
       "      <td>0.000000e+00</td>\n",
       "      <td>4.900000e+01</td>\n",
       "      <td>4.800000e+01</td>\n",
       "      <td>2.937000e+01</td>\n",
       "      <td>1.000000e+01</td>\n",
       "      <td>4.600000e+00</td>\n",
       "      <td>0.000000e+00</td>\n",
       "    </tr>\n",
       "    <tr>\n",
       "      <th>50%</th>\n",
       "      <td>2.000000e+00</td>\n",
       "      <td>3.578004e+01</td>\n",
       "      <td>-8.784453e+01</td>\n",
       "      <td>2.400000e-02</td>\n",
       "      <td>6.400000e+01</td>\n",
       "      <td>6.700000e+01</td>\n",
       "      <td>2.986000e+01</td>\n",
       "      <td>1.000000e+01</td>\n",
       "      <td>7.000000e+00</td>\n",
       "      <td>0.000000e+00</td>\n",
       "    </tr>\n",
       "    <tr>\n",
       "      <th>75%</th>\n",
       "      <td>2.000000e+00</td>\n",
       "      <td>4.008551e+01</td>\n",
       "      <td>-8.039143e+01</td>\n",
       "      <td>4.470000e-01</td>\n",
       "      <td>7.600000e+01</td>\n",
       "      <td>8.400000e+01</td>\n",
       "      <td>3.003000e+01</td>\n",
       "      <td>1.000000e+01</td>\n",
       "      <td>1.040000e+01</td>\n",
       "      <td>0.000000e+00</td>\n",
       "    </tr>\n",
       "    <tr>\n",
       "      <th>max</th>\n",
       "      <td>4.000000e+00</td>\n",
       "      <td>4.900220e+01</td>\n",
       "      <td>-6.711317e+01</td>\n",
       "      <td>4.417500e+02</td>\n",
       "      <td>2.030000e+02</td>\n",
       "      <td>1.000000e+02</td>\n",
       "      <td>5.863000e+01</td>\n",
       "      <td>1.400000e+02</td>\n",
       "      <td>1.087000e+03</td>\n",
       "      <td>3.647000e+01</td>\n",
       "    </tr>\n",
       "  </tbody>\n",
       "</table>\n",
       "</div>"
      ],
      "text/plain": [
       "           Severity     Start_Lat     Start_Lng  Distance(mi)  Temperature(F)  \\\n",
       "count  7.327531e+06  7.327531e+06  7.327531e+06  7.327531e+06    7.327531e+06   \n",
       "mean   2.213746e+00  3.617201e+01 -9.475451e+01  5.502983e-01    6.178422e+01   \n",
       "std    4.867966e-01  5.091290e+00  1.735555e+01  1.757743e+00    1.898521e+01   \n",
       "min    1.000000e+00  2.455480e+01 -1.246238e+02  0.000000e+00   -4.500000e+01   \n",
       "25%    2.000000e+00  3.336993e+01 -1.172294e+02  0.000000e+00    4.900000e+01   \n",
       "50%    2.000000e+00  3.578004e+01 -8.784453e+01  2.400000e-02    6.400000e+01   \n",
       "75%    2.000000e+00  4.008551e+01 -8.039143e+01  4.470000e-01    7.600000e+01   \n",
       "max    4.000000e+00  4.900220e+01 -6.711317e+01  4.417500e+02    2.030000e+02   \n",
       "\n",
       "        Humidity(%)  Pressure(in)  Visibility(mi)  Wind_Speed(mph)  \\\n",
       "count  7.327531e+06  7.327531e+06    7.327531e+06     6.919538e+06   \n",
       "mean   6.480563e+01  2.954520e+01    9.094921e+00     7.700647e+00   \n",
       "std    2.280620e+01  9.961187e-01    2.676606e+00     5.407158e+00   \n",
       "min    1.000000e+00  0.000000e+00    0.000000e+00     0.000000e+00   \n",
       "25%    4.800000e+01  2.937000e+01    1.000000e+01     4.600000e+00   \n",
       "50%    6.700000e+01  2.986000e+01    1.000000e+01     7.000000e+00   \n",
       "75%    8.400000e+01  3.003000e+01    1.000000e+01     1.040000e+01   \n",
       "max    1.000000e+02  5.863000e+01    1.400000e+02     1.087000e+03   \n",
       "\n",
       "       Precipitation(in)  \n",
       "count       5.297867e+06  \n",
       "mean        8.068156e-03  \n",
       "std         9.224145e-02  \n",
       "min         0.000000e+00  \n",
       "25%         0.000000e+00  \n",
       "50%         0.000000e+00  \n",
       "75%         0.000000e+00  \n",
       "max         3.647000e+01  "
      ]
     },
     "execution_count": 16,
     "metadata": {},
     "output_type": "execute_result"
    }
   ],
   "source": [
    "df_clean.describe()"
   ]
  },
  {
   "cell_type": "markdown",
   "id": "92edd810-8600-4ed2-8381-0cff33d1f172",
   "metadata": {},
   "source": [
    "The values for some of the numerical variables are unrealistic, namely `Temperature(F)`, `Distance(mi)`, `Pressure(in)`, `Visibility(mi)`, and `Wind_Speed(mph)`.\n",
    "For instance, the highest recorded temperature on Earth is around 134°F so a max of 203 is unrealistic. Similarly, the highest wind speeds recorded in hurricanes and tornadoes are well below 1087 mph.\n",
    "\n",
    "We can discard some inomalies and outliers for the numerical variables based on the following real-world observations:\n",
    "* Temperatures as low as -60 °F can be observed in extreme cold regions, while temperatures up to 130 °F can be seen in extreme hot regions.\n",
    "* Normal atmospheric pressure at sea level ranges from about 27 to 31 inches of mercury.\n",
    "* Visibility can drop to 0 in dense fog, and clear conditions might extend visibility to about 20 miles.\n",
    "* Typical wind speeds can vary from calm (0 mph) to extreme conditions like hurricanes and tornadoes, which can reach up to 150 mph."
   ]
  },
  {
   "cell_type": "code",
   "execution_count": 17,
   "id": "74fda7ba-2f2e-41fe-b68d-a2e032d1837d",
   "metadata": {},
   "outputs": [
    {
     "name": "stdout",
     "output_type": "stream",
     "text": [
      "0.00053% of the data reports a temperature of over 130F\n",
      "1.26% of the data reports an atmospheric pressure outside of normal (<27 or >31)\n",
      "0.13096% of accident occurred with a visibility of 20 miles or more\n",
      "0.00066% of the data reports a wind speeds of over 150mph\n"
     ]
    }
   ],
   "source": [
    "print(f'{100 * (df_clean[\"Temperature(F)\"] > 130).sum() / df_clean.shape[0]:.5f}% of the data reports a temperature of over 130F')\n",
    "print(f'{100 * ((df_clean[\"Pressure(in)\"] < 25) | (df_clean[\"Pressure(in)\"] > 31)).sum() / df_clean.shape[0]:.2f}% of the data reports an atmospheric pressure outside of normal (<27 or >31)')\n",
    "print(f'{100 * (df_clean[\"Visibility(mi)\"] > 20).sum() / df_clean.shape[0]:.5f}% of accident occurred with a visibility of 20 miles or more')\n",
    "print(f'{100 * (df_clean[\"Wind_Speed(mph)\"] > 150).sum() / df_clean.shape[0]:.5f}% of the data reports a wind speeds of over 150mph')"
   ]
  },
  {
   "cell_type": "code",
   "execution_count": 18,
   "id": "d84c9ab6-012a-4f7f-8dbe-5f1dd7ee4f4a",
   "metadata": {},
   "outputs": [],
   "source": [
    "df_clean = df_clean[df_clean[\"Temperature(F)\"] <= 130]\n",
    "df_clean = df_clean[(df_clean[\"Pressure(in)\"] >= 25) & (df_clean[\"Pressure(in)\"] <= 31)]\n",
    "df_clean = df_clean[df_clean[\"Visibility(mi)\"] <= 20]\n",
    "df_clean = df_clean[df_clean[\"Wind_Speed(mph)\"] <= 150]"
   ]
  },
  {
   "cell_type": "markdown",
   "id": "13c7c602-de23-4714-bd72-55eb334c1cf8",
   "metadata": {},
   "source": [
    "#### Feature Extraction and Engineering"
   ]
  },
  {
   "cell_type": "markdown",
   "id": "dac7b6b5-8a8c-430d-acf0-5f7c0116143c",
   "metadata": {},
   "source": [
    "There are 139 unique values of `Weather_Condition` in the dataset but some of them refer to the same condition due to typos and different wordings. We can group them into `Weather_Category` (ex. cloudy, clear condition, precipitation, etc.)"
   ]
  },
  {
   "cell_type": "code",
   "execution_count": 19,
   "id": "d66c77cf-7ee1-449d-84e8-8111cb30bd37",
   "metadata": {},
   "outputs": [
    {
     "data": {
      "text/plain": [
       "(139,)"
      ]
     },
     "execution_count": 19,
     "metadata": {},
     "output_type": "execute_result"
    }
   ],
   "source": [
    "df_clean[\"Weather_Condition\"].unique().shape"
   ]
  },
  {
   "cell_type": "code",
   "execution_count": 20,
   "id": "e47510ee-34ea-4c97-a2b0-9e9627a862a9",
   "metadata": {},
   "outputs": [],
   "source": [
    "def extract_weather_category(condition):\n",
    "    regular_weather = \"(cloud|overcast|rain|drizzle|thunderstorm|thunder|t-storm|tornado|snow|haze|fog|mist|smoke|sand|dust|hail|squalls|ice pellets|sleet|wintry mix)\"\n",
    "    special_weather = \"(fair|clear|volcanic ash|fair windy|showers in the vicinity|n/a precipitation|fair)\"\n",
    "    match = re.search(special_weather, condition.lower())\n",
    "    if match:\n",
    "        return match.group(1)\n",
    "    match = re.search(regular_weather, condition.lower())\n",
    "    if match:\n",
    "        return match.group(1)\n",
    "    return \"other\""
   ]
  },
  {
   "cell_type": "code",
   "execution_count": 21,
   "id": "4898605d-b320-41d7-902f-972f50b78733",
   "metadata": {},
   "outputs": [],
   "source": [
    "weather_categories = {\n",
    "    \"cloud\": \"cloudy\",\n",
    "    \"overcast\": \"cloudy\",\n",
    "    \"fair\": \"clear condition\",\n",
    "    \"clear\": \"clear condition\",\n",
    "    \"rain\": \"precipitation\",\n",
    "    \"drizzle\": \"precipitation\",\n",
    "    \"showers in the vicinity\": \"precipitation\",\n",
    "    \"t-storm\": \"thunderstorm\",\n",
    "    \"thunder\": \"thunderstorm\",\n",
    "    \"thunderstorm\": \"thunderstorm\",\n",
    "    \"wintry mix\": \"precipitation\",\n",
    "    \"n/a precipitation\": \"precipitation\",\n",
    "    \"mist\": \"precipitation\",\n",
    "    \"sleet\": \"precipitation\",\n",
    "    \"ice pellets\": \"precipitation\",\n",
    "    \"hail\": \"precipitation\",\n",
    "    \"snow\": \"snowstorm\",\n",
    "    \"fog\": \"visibility issue\",\n",
    "    \"haze\": \"visibility issue\",\n",
    "    \"smoke\": \"visibility issue\",\n",
    "    \"dust\": \"visibility issue\",\n",
    "    \"sand\": \"visibility issue\",\n",
    "    \"volcanic ash\": \"visibility issue\",\n",
    "    \"tornado\": \"extreme condition\",\n",
    "    \"squalls\": \"extreme condition\",\n",
    "}"
   ]
  },
  {
   "cell_type": "code",
   "execution_count": 22,
   "id": "f842441c-5591-4c48-9574-8b4001b0332a",
   "metadata": {},
   "outputs": [],
   "source": [
    "df_clean[\"Weather_Category\"] = df_clean[\"Weather_Condition\"].apply(extract_weather_category)\n",
    "df_clean[\"Weather_Category\"] = df_clean[\"Weather_Category\"].replace(weather_categories)"
   ]
  },
  {
   "cell_type": "code",
   "execution_count": 23,
   "id": "78747704-337a-43db-aecb-714197a0f738",
   "metadata": {},
   "outputs": [
    {
     "data": {
      "text/plain": [
       "clear condition      3048710\n",
       "cloudy               2881593\n",
       "precipitation         510660\n",
       "visibility issue      172144\n",
       "snowstorm             138043\n",
       "thunderstorm           70614\n",
       "extreme condition         87\n",
       "Name: Weather_Category, dtype: int64"
      ]
     },
     "execution_count": 23,
     "metadata": {},
     "output_type": "execute_result"
    }
   ],
   "source": [
    "df_clean[\"Weather_Category\"].value_counts()"
   ]
  },
  {
   "cell_type": "markdown",
   "id": "09269299-399a-4813-b280-158a5cbe1850",
   "metadata": {},
   "source": [
    "`Street` names by themselves may have too many values to work with but could extract the road type (local road or highway) from the names."
   ]
  },
  {
   "cell_type": "code",
   "execution_count": 24,
   "id": "6a87f70a-465c-427c-9aee-975115bff08e",
   "metadata": {},
   "outputs": [],
   "source": [
    "def is_highway(street_name):\n",
    "    # Check if the street name contains common highway prefixes or suffixes\n",
    "    highway_prefixes = ['I-', 'US-', 'SR-', 'HWY', 'INTERSTATE', 'US HIGHWAY', 'STATE ROUTE']\n",
    "    highway_suffixes = ['INTERSTATE', 'HIGHWAY', 'EXPRESSWAY', 'TURNPIKE', 'PARKWAY', 'ROUTE']\n",
    "    for prefix in highway_prefixes:\n",
    "        if street_name.upper().startswith(prefix):\n",
    "            return True\n",
    "    for suffix in highway_suffixes:\n",
    "        if street_name.upper().endswith(suffix):\n",
    "            return True\n",
    "    return False"
   ]
  },
  {
   "cell_type": "code",
   "execution_count": 25,
   "id": "899efd16-b915-45f8-9931-206c950bdd82",
   "metadata": {},
   "outputs": [],
   "source": [
    "df_clean[\"Is_Highway\"] = df_clean[\"Street\"].apply(is_highway)"
   ]
  },
  {
   "cell_type": "code",
   "execution_count": 26,
   "id": "7815acba-c368-41fc-a1f1-a08d009ccf88",
   "metadata": {},
   "outputs": [
    {
     "data": {
      "text/plain": [
       "False    4915957\n",
       "True     1905894\n",
       "Name: Is_Highway, dtype: int64"
      ]
     },
     "execution_count": 26,
     "metadata": {},
     "output_type": "execute_result"
    }
   ],
   "source": [
    "df_clean[\"Is_Highway\"].value_counts()"
   ]
  },
  {
   "cell_type": "markdown",
   "id": "179d2cf5-b0f3-432e-bff4-cb7dfb7dcde7",
   "metadata": {},
   "source": [
    "We can also compute the duration of the accident as the difference between `End_Time` and `Start_Time`."
   ]
  },
  {
   "cell_type": "code",
   "execution_count": 27,
   "id": "6ed1d49d-f3c8-40bb-b2d6-70a426e04b9f",
   "metadata": {},
   "outputs": [],
   "source": [
    "df_clean[\"Duration(min)\"] = (df_clean[\"End_Time\"] - df_clean[\"Start_Time\"]).dt.total_seconds() / 60"
   ]
  },
  {
   "cell_type": "markdown",
   "id": "9050b11e-3329-4cb5-8cbc-0bb144080c9e",
   "metadata": {},
   "source": [
    "3948 (0.054\\%) of reported accident in the dataset had an impact on traffic flow for more than 24h (which is unusual). Those are either anomalies in the dataset or extremely rare cases. We could therefore remove these rows."
   ]
  },
  {
   "cell_type": "code",
   "execution_count": 28,
   "id": "12b8cd37-d471-47ff-8089-675a78b83acc",
   "metadata": {},
   "outputs": [],
   "source": [
    "df_clean = df_clean[df_clean[\"Duration(min)\"] <= 24*60*60]"
   ]
  },
  {
   "cell_type": "markdown",
   "id": "552031e1-11e1-4b54-8656-fda8ce464451",
   "metadata": {},
   "source": [
    "We could also extract time-related information from `Start_Time`."
   ]
  },
  {
   "cell_type": "code",
   "execution_count": 29,
   "id": "f2e157a5-2247-4fad-953d-e256ad8501be",
   "metadata": {},
   "outputs": [],
   "source": [
    "df_clean[\"Date\"] = pd.to_datetime(df_clean[\"Start_Time\"].dt.date)\n",
    "df_clean[\"Hour\"] = df_clean[\"Start_Time\"].dt.hour\n",
    "df_clean[\"Day\"] = df_clean[\"Start_Time\"].dt.day\n",
    "df_clean[\"Day_of_Week\"] = df_clean[\"Start_Time\"].dt.dayofweek + 1  # index for day of the week start at 0\n",
    "df_clean[\"Month\"] = df_clean[\"Start_Time\"].dt.month\n",
    "df_clean[\"Year\"] = df_clean[\"Start_Time\"].dt.year"
   ]
  },
  {
   "cell_type": "markdown",
   "id": "99aca556-d06c-4399-97c2-4d08fa31fbaa",
   "metadata": {},
   "source": [
    "`Sunrise_Sunset` can be used to determine if it was day of night."
   ]
  },
  {
   "cell_type": "code",
   "execution_count": 30,
   "id": "0c6348a9-4898-4863-83fd-87d8c83bba9a",
   "metadata": {},
   "outputs": [],
   "source": [
    "df_clean = df_clean.rename(columns={\"Sunrise_Sunset\": \"Is_Night\"})\n",
    "df_clean[\"Is_Night\"] = df_clean[\"Is_Night\"] == \"Night\""
   ]
  },
  {
   "cell_type": "code",
   "execution_count": 31,
   "id": "ba99fe12-6eed-4d55-b0ce-8eb5c2bd3175",
   "metadata": {},
   "outputs": [
    {
     "data": {
      "text/plain": [
       "False    4786134\n",
       "True     2031869\n",
       "Name: Is_Night, dtype: int64"
      ]
     },
     "execution_count": 31,
     "metadata": {},
     "output_type": "execute_result"
    }
   ],
   "source": [
    "df_clean[\"Is_Night\"].value_counts()"
   ]
  },
  {
   "cell_type": "markdown",
   "id": "e7f2982d-3409-446a-8f5d-d3a7c6eeba31",
   "metadata": {},
   "source": [
    "#### Fill Missing Values By Imputation"
   ]
  },
  {
   "cell_type": "markdown",
   "id": "c7393a26-fd8b-47c9-90e8-de394c82605f",
   "metadata": {},
   "source": [
    "We set data points with missing `Precipitation(in)` where the `Weather_Category` isn't a precipitation to 0."
   ]
  },
  {
   "cell_type": "code",
   "execution_count": 32,
   "id": "fac9d392-1a60-42fa-b290-a2975a41e198",
   "metadata": {},
   "outputs": [],
   "source": [
    "df_clean.loc[(df_clean[\"Precipitation(in)\"].isnull()) & (df_clean[\"Weather_Category\"].str not in {\"precipitation\", \"snowstorm\", \"thunderstorm\"}), \"Precipitation(in)\"] = 0"
   ]
  },
  {
   "cell_type": "markdown",
   "id": "d0d1252e-7c3f-4ec1-83d0-3528f74d90c9",
   "metadata": {},
   "source": [
    "We fill the missing values of `Wind_Speed` with the median for each corresponding `Weather_Category`."
   ]
  },
  {
   "cell_type": "code",
   "execution_count": 33,
   "id": "f0ed45e2-dad7-43ec-8b64-95d7c1b404a5",
   "metadata": {},
   "outputs": [],
   "source": [
    "for category in df_clean[\"Weather_Category\"].unique():\n",
    "    median = df_clean.loc[df_clean[\"Weather_Category\"] == category, \"Wind_Speed(mph)\"].median()\n",
    "    df_clean.loc[df_clean[\"Weather_Category\"] == category, \"Wind_Speed(mph)\"] = df_clean.loc[df_clean[\"Weather_Category\"] == category, \"Wind_Speed(mph)\"].fillna(median)"
   ]
  },
  {
   "cell_type": "code",
   "execution_count": 34,
   "id": "11550053-30e5-4dd9-9fea-824eb0861db7",
   "metadata": {},
   "outputs": [
    {
     "name": "stdout",
     "output_type": "stream",
     "text": [
      "11.78% of the original dataset was dropped\n"
     ]
    }
   ],
   "source": [
    "print(f\"{100 * (init_nrows - df_clean.shape[0]) / init_nrows:.2f}% of the original dataset was dropped\")"
   ]
  },
  {
   "cell_type": "code",
   "execution_count": 35,
   "id": "ac2db9f5-284f-44b2-9186-e9a4a39d17e4",
   "metadata": {},
   "outputs": [
    {
     "data": {
      "text/plain": [
       "Severity             0\n",
       "Start_Time           0\n",
       "End_Time             0\n",
       "Start_Lat            0\n",
       "Start_Lng            0\n",
       "Distance(mi)         0\n",
       "Street               0\n",
       "City                 0\n",
       "County               0\n",
       "State                0\n",
       "Temperature(F)       0\n",
       "Humidity(%)          0\n",
       "Pressure(in)         0\n",
       "Visibility(mi)       0\n",
       "Wind_Speed(mph)      0\n",
       "Precipitation(in)    0\n",
       "Weather_Condition    0\n",
       "Amenity              0\n",
       "Bump                 0\n",
       "Crossing             0\n",
       "Give_Way             0\n",
       "Junction             0\n",
       "No_Exit              0\n",
       "Railway              0\n",
       "Roundabout           0\n",
       "Station              0\n",
       "Stop                 0\n",
       "Traffic_Calming      0\n",
       "Traffic_Signal       0\n",
       "Turning_Loop         0\n",
       "Is_Night             0\n",
       "Weather_Category     0\n",
       "Is_Highway           0\n",
       "Duration(min)        0\n",
       "Date                 0\n",
       "Hour                 0\n",
       "Day                  0\n",
       "Day_of_Week          0\n",
       "Month                0\n",
       "Year                 0\n",
       "dtype: int64"
      ]
     },
     "execution_count": 35,
     "metadata": {},
     "output_type": "execute_result"
    }
   ],
   "source": [
    "df_clean.isnull().sum()"
   ]
  },
  {
   "cell_type": "markdown",
   "id": "2af37e2e-f1e7-4e03-bf05-9ccdcb745f6f",
   "metadata": {},
   "source": [
    "### 2.4. Save Data"
   ]
  },
  {
   "cell_type": "code",
   "execution_count": 37,
   "id": "ce168a7b-cf5f-41d0-8a80-359b5d48c908",
   "metadata": {},
   "outputs": [],
   "source": [
    "%time\n",
    "df_clean.to_csv(\"data/US_Accidents_March23_Clean.csv\", index=False)"
   ]
  },
  {
   "cell_type": "code",
   "execution_count": null,
   "id": "9b0b7dcb-667b-43b5-99e5-5b77e1c4a816",
   "metadata": {},
   "outputs": [],
   "source": []
  }
 ],
 "metadata": {
  "kernelspec": {
   "display_name": "dl-env",
   "language": "python",
   "name": "dl-env"
  },
  "language_info": {
   "codemirror_mode": {
    "name": "ipython",
    "version": 3
   },
   "file_extension": ".py",
   "mimetype": "text/x-python",
   "name": "python",
   "nbconvert_exporter": "python",
   "pygments_lexer": "ipython3",
   "version": "3.9.12"
  }
 },
 "nbformat": 4,
 "nbformat_minor": 5
}
