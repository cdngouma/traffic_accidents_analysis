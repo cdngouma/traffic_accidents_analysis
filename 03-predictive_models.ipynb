{
 "cells": [
  {
   "cell_type": "code",
   "execution_count": 1,
   "id": "80f398bc-1ba3-42e0-8fc8-490740e7fa52",
   "metadata": {},
   "outputs": [],
   "source": [
    "import pandas as pd\n",
    "import numpy as np\n",
    "import re"
   ]
  },
  {
   "cell_type": "markdown",
   "id": "fcd906a3-ca33-45af-b622-46b14a82472a",
   "metadata": {},
   "source": [
    "In this notebook, we build and evaluate machine learning models to predict the severity of a given accident."
   ]
  },
  {
   "cell_type": "markdown",
   "id": "343fa05d-c825-42c6-b168-3beccaa69f0e",
   "metadata": {},
   "source": [
    "### Load and Preprocess Dataset"
   ]
  },
  {
   "cell_type": "code",
   "execution_count": 2,
   "id": "27097d16-f742-41bc-ba44-7783b9a13845",
   "metadata": {},
   "outputs": [
    {
     "name": "stdout",
     "output_type": "stream",
     "text": [
      "CPU times: total: 24.9 s\n",
      "Wall time: 25.5 s\n"
     ]
    },
    {
     "data": {
      "text/plain": [
       "(7223677, 42)"
      ]
     },
     "execution_count": 2,
     "metadata": {},
     "output_type": "execute_result"
    }
   ],
   "source": [
    "%%time\n",
    "data = pd.read_csv(\"data/US_Accidents_March23_Clean.csv\")\n",
    "data.shape"
   ]
  },
  {
   "cell_type": "code",
   "execution_count": 3,
   "id": "7de675e2-ff7e-4385-99f6-b1163890c8b1",
   "metadata": {},
   "outputs": [
    {
     "data": {
      "text/plain": [
       "(3103674, 42)"
      ]
     },
     "execution_count": 3,
     "metadata": {},
     "output_type": "execute_result"
    }
   ],
   "source": [
    "data = data[(data[\"Year\"] == 2021) | (data[\"Year\"] == 2022)].copy()\n",
    "data.shape"
   ]
  },
  {
   "cell_type": "code",
   "execution_count": 4,
   "id": "b6b044a5-80d2-45ae-8a18-f7aa97b06d27",
   "metadata": {},
   "outputs": [
    {
     "data": {
      "text/plain": [
       "2    2789545\n",
       "3     213674\n",
       "4      64398\n",
       "1      36057\n",
       "Name: Severity, dtype: int64"
      ]
     },
     "execution_count": 4,
     "metadata": {},
     "output_type": "execute_result"
    }
   ],
   "source": [
    "data[\"Severity\"].value_counts()"
   ]
  },
  {
   "cell_type": "code",
   "execution_count": 5,
   "id": "0e8be22d-1bc7-41ff-9f2d-81ae2b68464b",
   "metadata": {},
   "outputs": [
    {
     "data": {
      "text/plain": [
       "331194"
      ]
     },
     "execution_count": 5,
     "metadata": {},
     "output_type": "execute_result"
    }
   ],
   "source": [
    "downsampled_count = int(data[\"Severity\"].value_counts().sort_values(ascending=False).iloc[1] * 1.55)\n",
    "downsampled_count"
   ]
  },
  {
   "cell_type": "code",
   "execution_count": 6,
   "id": "8a2f09e8-e143-4c41-9f43-0f7b841404c6",
   "metadata": {},
   "outputs": [],
   "source": [
    "df_majority_downsampled = data[data[\"Severity\"] == 2].sample(n=downsampled_count, random_state=42)\n",
    "df_rest = data[data[\"Severity\"] != 2]\n",
    "df_balanced = pd.concat([df_majority_downsampled, df_rest])"
   ]
  },
  {
   "cell_type": "code",
   "execution_count": 7,
   "id": "7dd91dd5-2a93-4890-876c-a349c5255f6b",
   "metadata": {},
   "outputs": [
    {
     "data": {
      "text/plain": [
       "2    331194\n",
       "3    213674\n",
       "4     64398\n",
       "1     36057\n",
       "Name: Severity, dtype: int64"
      ]
     },
     "execution_count": 7,
     "metadata": {},
     "output_type": "execute_result"
    }
   ],
   "source": [
    "df_balanced[\"Severity\"].value_counts()"
   ]
  },
  {
   "cell_type": "code",
   "execution_count": 8,
   "id": "571b314f-a172-4e5d-b3c7-b6628aa7f9d5",
   "metadata": {},
   "outputs": [
    {
     "data": {
      "text/plain": [
       "(645323, 42)"
      ]
     },
     "execution_count": 8,
     "metadata": {},
     "output_type": "execute_result"
    }
   ],
   "source": [
    "df_balanced.shape"
   ]
  },
  {
   "cell_type": "code",
   "execution_count": null,
   "id": "b7c59d23-7c6a-4909-b1e3-9b41e23f2552",
   "metadata": {},
   "outputs": [],
   "source": []
  }
 ],
 "metadata": {
  "kernelspec": {
   "display_name": "dl-env",
   "language": "python",
   "name": "dl-env"
  },
  "language_info": {
   "codemirror_mode": {
    "name": "ipython",
    "version": 3
   },
   "file_extension": ".py",
   "mimetype": "text/x-python",
   "name": "python",
   "nbconvert_exporter": "python",
   "pygments_lexer": "ipython3",
   "version": "3.9.12"
  }
 },
 "nbformat": 4,
 "nbformat_minor": 5
}
