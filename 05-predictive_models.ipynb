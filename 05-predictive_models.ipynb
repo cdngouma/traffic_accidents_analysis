{
 "cells": [
  {
   "cell_type": "code",
   "execution_count": null,
   "id": "b7c59d23-7c6a-4909-b1e3-9b41e23f2552",
   "metadata": {},
   "outputs": [],
   "source": []
  }
 ],
 "metadata": {
  "kernelspec": {
   "display_name": "dl-env",
   "language": "python",
   "name": "dl-env"
  },
  "language_info": {
   "codemirror_mode": {
    "name": "ipython",
    "version": 3
   },
   "file_extension": ".py",
   "mimetype": "text/x-python",
   "name": "python",
   "nbconvert_exporter": "python",
   "pygments_lexer": "ipython3",
   "version": "3.9.12"
  }
 },
 "nbformat": 4,
 "nbformat_minor": 5
}
