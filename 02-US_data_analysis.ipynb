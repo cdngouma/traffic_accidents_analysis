{
 "cells": [
  {
   "cell_type": "markdown",
   "id": "0c3b879b-3e2e-4bd0-9c3e-def75e65d0ed",
   "metadata": {},
   "source": [
    "The rendered version is at [`/pdf_notebooks/02-US_data_analysis.pdf`](\"./pdf_notebooks/02-US_data_analysis.pdf\") "
   ]
  },
  {
   "cell_type": "code",
   "execution_count": null,
   "id": "daf1a744-db7c-46fa-8ee0-5be71d5b42ac",
   "metadata": {},
   "outputs": [],
   "source": [
    "import pandas as pd\n",
    "import numpy as np\n",
    "import re\n",
    "import math"
   ]
  },
  {
   "cell_type": "code",
   "execution_count": null,
   "id": "69e5a22b-60d3-4d22-afe2-aaf52ed9890c",
   "metadata": {},
   "outputs": [],
   "source": [
    "import plotly.express as px\n",
    "import plotly.graph_objects as go\n",
    "import plotly.io as pio\n",
    "from plotly.subplots import make_subplots"
   ]
  },
  {
   "cell_type": "markdown",
   "id": "5a738b41-f9a6-464d-9833-95ae337dbdcb",
   "metadata": {},
   "source": [
    "In this notebook, we analyse the US Traffic Accident dataset to derive insights and select features for predictive models."
   ]
  },
  {
   "cell_type": "markdown",
   "id": "5de20f5c-e423-4c66-a563-1e4a274a7da4",
   "metadata": {},
   "source": [
    "## 1. Load Data"
   ]
  },
  {
   "cell_type": "code",
   "execution_count": null,
   "id": "68bf2175-4081-437e-9210-3feb5439448a",
   "metadata": {},
   "outputs": [],
   "source": [
    "%%time\n",
    "data = pd.read_csv(\"data/US_Accidents_March23_Clean.csv\")\n",
    "data.shape"
   ]
  },
  {
   "cell_type": "markdown",
   "id": "58df7ea5-d549-4b98-bcc3-2f70f12b4dc5",
   "metadata": {},
   "source": [
    "The dataset we have contains close to 7 millions rows and has a size of 1.5Go (or more). In this analysis and beyond, we are focusing solely on the years 2021 and 2022 to ensure that our insights and predictive models are based on the most recent and relevant data available.\n",
    "* **Recent and Relevant Data:** The years 2021 and 2022 would be more relevant to leverage the most current insights into what influences impacting accident severity.\n",
    "* **Higher Data Volume:** Despite comprising a smaller portion of the dataset (43%), data from the years 2021 and 2022 offer a substantial amount of recorded accidents, ensuring robust analysis and modeling.\n",
    "* **Accuracy in Predictions:** By analyzing recent years, we aim to produce predictive models that accurately reflect present-day accident trends and conditions, enhancing the reliability of our forecasts.\n",
    "* **Resource Optimization:** Prioritizing these years optimizes our resources (less data to process) by concentrating efforts on data that is more likely to yield actionable insights."
   ]
  },
  {
   "cell_type": "code",
   "execution_count": null,
   "id": "3e49cca1-9dc8-43a4-b4f0-b0902dfdf0b9",
   "metadata": {},
   "outputs": [],
   "source": [
    "print(f'Portion of data for 2021 to 2022: {100*data[(data[\"Year\"] == 2021) | (data[\"Year\"] == 2022)].shape[0] / data.shape[0]:.2f}%')\n",
    "print(f'Portion of data for oher years: {100*data[(data[\"Year\"] != 2021) & (data[\"Year\"] != 2022)].shape[0] / data.shape[0]:.2f}%')"
   ]
  },
  {
   "cell_type": "code",
   "execution_count": null,
   "id": "ccca9fb3-9d17-4ada-8349-c12160641d49",
   "metadata": {},
   "outputs": [],
   "source": [
    "fig = px.histogram(data, x='Year', title='Distribution of Accidents by Year')\n",
    "fig.update_layout(width=450, height=350)\n",
    "fig.show(config={'staticPlot': True})"
   ]
  },
  {
   "cell_type": "code",
   "execution_count": null,
   "id": "014dbd66-55f8-46b2-b66d-d4c39df68e97",
   "metadata": {},
   "outputs": [],
   "source": [
    "data = data[(data[\"Year\"] == 2021) | (data[\"Year\"] == 2022)].copy()\n",
    "data.shape"
   ]
  },
  {
   "cell_type": "markdown",
   "id": "e1e7a174-5889-4de8-b3c3-b477a8822f7b",
   "metadata": {},
   "source": [
    "The dataset is also heavily imbalanced. Accidents of `Severity` 2 make up over 80% of all data. We could downsample this class to have closer to the other ones. This would allow the analysis to be more effectibe."
   ]
  },
  {
   "cell_type": "code",
   "execution_count": null,
   "id": "ea256814-59f4-429b-b8eb-3279a638daf2",
   "metadata": {},
   "outputs": [],
   "source": [
    "downsampled_count = int(data[\"Severity\"].value_counts().sort_values(ascending=False).iloc[1] * 3.0)\n",
    "downsampled_count"
   ]
  },
  {
   "cell_type": "code",
   "execution_count": null,
   "id": "ddc42687-8234-4be5-aebd-64b77f9bb4c2",
   "metadata": {},
   "outputs": [],
   "source": [
    "df_majority_downsampled = data[data[\"Severity\"] == 2].sample(n=downsampled_count, random_state=42)\n",
    "df_rest = data[data[\"Severity\"] != 2]\n",
    "df_balanced = pd.concat([df_majority_downsampled, df_rest])"
   ]
  },
  {
   "cell_type": "code",
   "execution_count": null,
   "id": "d245ef38-c989-49f6-b42f-e6fdfbd8d1c4",
   "metadata": {},
   "outputs": [],
   "source": [
    "df_balanced.shape"
   ]
  },
  {
   "cell_type": "markdown",
   "id": "89e2744a-6748-4e16-a1c0-01cc9d4da41f",
   "metadata": {},
   "source": [
    "We are down to about 940000 rows which is more manageable"
   ]
  },
  {
   "cell_type": "code",
   "execution_count": null,
   "id": "a8ef5516-4cd1-4827-9480-aa997c616f53",
   "metadata": {},
   "outputs": [],
   "source": [
    "fig = go.Figure()\n",
    "fig.add_trace(go.Histogram(x=data['Severity'], opacity=0.7, name='Original Data'))\n",
    "fig.add_trace(go.Histogram(x=df_balanced['Severity'], opacity=0.7, name='Sampled Data'))\n",
    "fig.update_layout(\n",
    "    height=300, width=450,\n",
    "    title='Comparison of Severity Distribution',\n",
    "    xaxis_title='Severity', yaxis_title='Count',\n",
    "    barmode='overlay', bargap=0.1, bargroupgap=0.1,\n",
    "    xaxis=dict(tickmode='linear',  tick0=min(data['Severity']), dtick=1)\n",
    ")\n",
    "# Show the plot\n",
    "fig.show(config={'staticPlot': True})"
   ]
  },
  {
   "cell_type": "code",
   "execution_count": null,
   "id": "4c8c0cbc-49af-4b2f-b6b4-8055084463f0",
   "metadata": {},
   "outputs": [],
   "source": [
    "df = df_balanced.copy()"
   ]
  },
  {
   "cell_type": "code",
   "execution_count": null,
   "id": "272635c7-e4d8-4c38-8f73-1af9d501019d",
   "metadata": {},
   "outputs": [],
   "source": [
    "del(data)\n",
    "del(df_balanced)"
   ]
  },
  {
   "cell_type": "markdown",
   "id": "d6231aab-f043-4452-bd3a-c88707d14548",
   "metadata": {},
   "source": [
    "We fix the Datetime datatypes"
   ]
  },
  {
   "cell_type": "code",
   "execution_count": null,
   "id": "81e2d1cc-714e-46ac-9208-d95ec82ca919",
   "metadata": {},
   "outputs": [],
   "source": [
    "df[\"Start_Time\"] = pd.to_datetime(df[\"Start_Time\"])\n",
    "df[\"End_Time\"] = pd.to_datetime(df[\"End_Time\"])\n",
    "df[\"Date\"] = pd.to_datetime(df[\"Date\"])"
   ]
  },
  {
   "cell_type": "markdown",
   "id": "945d6eab-68fb-41e6-a21d-afbab1491b66",
   "metadata": {},
   "source": [
    "## Descriptive Analysis"
   ]
  },
  {
   "cell_type": "code",
   "execution_count": null,
   "id": "89bd17c7-4d5f-4586-999d-45da9c71207e",
   "metadata": {},
   "outputs": [],
   "source": [
    "numerical_vars = df.select_dtypes(include=['number']).columns.tolist()\n",
    "boolean_vars = df.select_dtypes(include=['bool']).columns.tolist()\n",
    "categorical_vars = df.select_dtypes(include=['object','category']).columns.tolist()\n",
    "datetime_vars = df.select_dtypes(include=['datetime']).columns.tolist()"
   ]
  },
  {
   "cell_type": "markdown",
   "id": "8c1afb10-9175-408e-bd9b-58ff1dd40476",
   "metadata": {
    "tags": []
   },
   "source": [
    "### 1. Univariate Analysis"
   ]
  },
  {
   "cell_type": "markdown",
   "id": "54298a8a-bda9-4a75-97f2-43ce99575cd6",
   "metadata": {
    "tags": []
   },
   "source": [
    "#### Numerical and ordinal categorical variables\n",
    "* **Hourly Patterns:** Peak accident times are during the late afternoon (16:00 - 17:00), likely due to the evening rush hour. The early morning hours (2:00 - 5:00) have the fewest accidents.\n",
    "* **Daily Patterns:** Accidents are evenly spread across the days of the month, with minor fluctuations. This indicates no specific days are particularly prone to accidents.\n",
    "* **Weekly Patterns:** Weekdays see a higher number of accidents compared to weekends. Fridays have the highest number of accidents, possibly due to end-of-week fatigue and increased travel. Sundays have the fewest, suggesting reduced traffic.\n",
    "* **Monthly Patterns:** December has the highest number of accidents, possibly due to winter weather and holiday travel. October has the lowest, which might be attributed to milder weather.\n",
    "* **Weather Conditions:** Most accidents occur under clear and cloudy conditions, with fewer accidents in severe weather conditions like snowstorms and thunderstorms. The mean temperature during accidents is 63°F, indicating accidents occur across a wide range of temperatures. The average visibility is 9 miles, and wind speeds are generally low (mean of 7.38 mph). However, there are extreme values, indicating occasional severe conditions.\n",
    "* **Distance and Duration:** The median accident duration is approximately 78 minutes, with a wide range of durations indicating variability in accident severity and response times. The average distance affected by an accident is relatively short (0.73 miles), with most area affected being at or near the accident location.\n",
    "* **Traffic Features:** Traffic signals, crossings, and junctions are common at accident sites. Notably, a significant portion of accidents occur at night (30.20%) and on highways (32.63%), suggesting these conditions require special attention for safety improvements.\n",
    "* **State-Level Insights:** California and Florida have the highest number of accidents, reflecting their large populations and extensive road networks. States like Wyoming and Vermont have significantly fewer accidents, likely due to smaller populations and less traffic."
   ]
  },
  {
   "cell_type": "code",
   "execution_count": null,
   "id": "e3260769-a436-46fd-bcd8-72459f5a9c07",
   "metadata": {},
   "outputs": [],
   "source": [
    "len(numerical_vars)"
   ]
  },
  {
   "cell_type": "code",
   "execution_count": null,
   "id": "b2ec0843-8e63-4048-854a-28eee1a089ba",
   "metadata": {},
   "outputs": [],
   "source": [
    "df[numerical_vars].info()"
   ]
  },
  {
   "cell_type": "code",
   "execution_count": null,
   "id": "07df27fb-0680-482f-9341-ca9e99fd3d61",
   "metadata": {},
   "outputs": [],
   "source": [
    "df[\"Severity\"].value_counts()"
   ]
  },
  {
   "cell_type": "code",
   "execution_count": null,
   "id": "c36e5a50-29aa-4fde-bc81-28879f6a1986",
   "metadata": {},
   "outputs": [],
   "source": [
    "df[numerical_vars].describe()"
   ]
  },
  {
   "cell_type": "code",
   "execution_count": null,
   "id": "a7b475c7-5dd0-48c6-af0d-5b7f2a1c0dc9",
   "metadata": {},
   "outputs": [],
   "source": [
    "fig = make_subplots(rows=4, cols=4, subplot_titles=numerical_vars)\n",
    "for i, col in enumerate(numerical_vars):\n",
    "    row = i // 4 + 1\n",
    "    col_pos = i % 4 + 1\n",
    "    fig.add_trace(\n",
    "        go.Histogram(x=df[col], nbinsx=25 if col != 'Severity' else 4, showlegend=False),\n",
    "        row=row, col=col_pos\n",
    "    )\n",
    "\n",
    "# Update layout\n",
    "fig.update_layout(height=700, width=1120, title_text=\"Histograms of Numerical Variables\")\n",
    "fig.update_xaxes(tickvals=[1, 2, 3, 4], row=1, col=1)\n",
    "fig.update_xaxes(tickvals=list(range(1, 13)), row=4, col=3)\n",
    "\n",
    "# Show plot\n",
    "fig.show(config={'staticPlot': True})"
   ]
  },
  {
   "cell_type": "markdown",
   "id": "afcaeaec-8acf-46cf-bdd4-c6d6ec75a55d",
   "metadata": {
    "tags": []
   },
   "source": [
    "#### Boolean variables"
   ]
  },
  {
   "cell_type": "code",
   "execution_count": null,
   "id": "ef63f13a-67a9-41b8-ae6e-cf2304f4cc12",
   "metadata": {},
   "outputs": [],
   "source": [
    "len(boolean_vars)"
   ]
  },
  {
   "cell_type": "code",
   "execution_count": null,
   "id": "09023ef7-b1e3-4068-bb63-f88298baf75a",
   "metadata": {},
   "outputs": [],
   "source": [
    "df[boolean_vars].info()"
   ]
  },
  {
   "cell_type": "code",
   "execution_count": null,
   "id": "ec1c60e6-1613-4898-9c5a-962e5656f129",
   "metadata": {},
   "outputs": [],
   "source": [
    "true_counts = df[boolean_vars].sum()"
   ]
  },
  {
   "cell_type": "code",
   "execution_count": null,
   "id": "7274a812-4b8f-4717-ae5a-0a4aa0524709",
   "metadata": {
    "tags": []
   },
   "outputs": [],
   "source": [
    "num_plots = len(boolean_vars)\n",
    "num_cols = 8\n",
    "num_rows = math.ceil(num_plots / num_cols)\n",
    "\n",
    "# Create Plotly figure with subplots\n",
    "fig = make_subplots(rows=num_rows, cols=num_cols, subplot_titles=boolean_vars, \n",
    "                    specs=[[{'type':'pie'}]*num_cols]*num_rows)\n",
    "# Populate subplots with pie charts\n",
    "for i, column in enumerate(boolean_vars):\n",
    "    row = i // num_cols + 1  # Plotly subplots start from row 1\n",
    "    col = i % num_cols + 1   # Plotly subplots start from col 1\n",
    "    counts = df[column].value_counts()\n",
    "    fig.add_trace(\n",
    "        go.Pie(labels=counts.index, values=counts, textinfo='percent', sort=False),\n",
    "        row=row, col=col\n",
    "    )\n",
    "    fig.update_layout(\n",
    "        title=f\"{column}\",\n",
    "        font=dict(size=10),\n",
    "        margin=dict(l=10, r=10, t=40, b=10),  # Adjust margins for better layout\n",
    "        showlegend=False\n",
    "    )\n",
    "# Update layout and show figure\n",
    "fig.update_layout(\n",
    "    title='Distribution of Boolean Columns',\n",
    "    height=350, width=1000,\n",
    "    template='plotly_white',\n",
    ")\n",
    "\n",
    "fig.show(config={'staticPlot': True})"
   ]
  },
  {
   "cell_type": "markdown",
   "id": "a73210c2-ed8b-41e3-bc62-740b28e09093",
   "metadata": {},
   "source": [
    "#### Categorical variables"
   ]
  },
  {
   "cell_type": "markdown",
   "id": "5ad3b0b8-b3bb-45e9-a649-216345767679",
   "metadata": {},
   "source": [
    "Some variables may not be very useful as they are so we would use their transformed version or new variables extracted from them."
   ]
  },
  {
   "cell_type": "code",
   "execution_count": null,
   "id": "5eafe7ab-ae89-4fd8-8f5e-8b7177a82451",
   "metadata": {},
   "outputs": [],
   "source": [
    "categorical_vars.remove(\"Street\")\n",
    "categorical_vars.remove(\"Weather_Condition\")"
   ]
  },
  {
   "cell_type": "code",
   "execution_count": null,
   "id": "3569dead-58eb-4d00-a354-31118203cdef",
   "metadata": {},
   "outputs": [],
   "source": [
    "len(categorical_vars)"
   ]
  },
  {
   "cell_type": "code",
   "execution_count": null,
   "id": "e17350e4-8389-4630-a7e9-5bc539995b67",
   "metadata": {},
   "outputs": [],
   "source": [
    "df[categorical_vars].info()"
   ]
  },
  {
   "cell_type": "code",
   "execution_count": null,
   "id": "e33bded5-dc5a-4618-9dc1-3d5bb411a5f0",
   "metadata": {},
   "outputs": [],
   "source": [
    "print(\"Unique values counts\")\n",
    "for col in categorical_vars:\n",
    "    print(f\"{col}: {df[col].unique().shape[0]}\")"
   ]
  },
  {
   "cell_type": "code",
   "execution_count": null,
   "id": "0727058f-993b-4524-8953-3431388276c0",
   "metadata": {},
   "outputs": [],
   "source": [
    "# Create a subplot for Weather Category, Weather Intensity, and City\n",
    "fig = make_subplots(rows=1, cols=3, subplot_titles=['Weather Category', 'Weather Intensity', 'City', 'County'])\n",
    "\n",
    "# Plot Weather Category (bar plot)\n",
    "weather_cat_counts = df['Weather_Category'].value_counts()\n",
    "fig.add_trace(go.Bar(x=weather_cat_counts.index, y=weather_cat_counts.values, marker_color='orange'), row=1, col=1)\n",
    "\n",
    "# Plot City (bar plot)\n",
    "city_counts = df['City'].value_counts().nlargest(15)\n",
    "fig.add_trace(go.Bar(x=city_counts.index, y=city_counts.values, marker_color='green'), row=1, col=2)\n",
    "\n",
    "# Plot County (bar plot)\n",
    "county_counts = df['County'].value_counts().nlargest(15)\n",
    "fig.add_trace(go.Bar(x=county_counts.index, y=county_counts.values, marker_color='purple'), row=1, col=3)\n",
    "\n",
    "fig.update_layout(title='Weather Category, Intensity, Top Cities and Top Counties',\n",
    "                  height=340, width=900, showlegend=False)\n",
    "\n",
    "fig.show(config={'staticPlot': True})"
   ]
  },
  {
   "cell_type": "code",
   "execution_count": null,
   "id": "fc7fe8f8-d14b-4360-9e06-e10a490a775f",
   "metadata": {},
   "outputs": [],
   "source": [
    "# Plot State (choropleth map)\n",
    "state_counts = df['State'].value_counts().reset_index()\n",
    "state_counts.columns = ['State', 'Counts']\n",
    "\n",
    "# Create choropleth map for State\n",
    "fig = go.Figure(data=go.Choropleth(\n",
    "    locations=state_counts['State'],\n",
    "    z=state_counts['Counts'],\n",
    "    locationmode='USA-states',\n",
    "    colorscale='Reds',\n",
    "    colorbar_title='Number of Accidents'\n",
    "))\n",
    "\n",
    "fig.update_layout(\n",
    "    title_text='Total Number of Accidents in the US (2021-2022)',\n",
    "    geo=dict(scope='usa', projection_type='albers usa'),\n",
    "    height=400, width=800, showlegend=True, barmode='group',\n",
    ")\n",
    "\n",
    "# Show the plot\n",
    "fig.show(config={'staticPlot': True})"
   ]
  },
  {
   "cell_type": "code",
   "execution_count": null,
   "id": "582fec19-7cff-42f9-ab90-ce5ab190cd65",
   "metadata": {},
   "outputs": [],
   "source": []
  }
 ],
 "metadata": {
  "kernelspec": {
   "display_name": "dl-env",
   "language": "python",
   "name": "dl-env"
  },
  "language_info": {
   "codemirror_mode": {
    "name": "ipython",
    "version": 3
   },
   "file_extension": ".py",
   "mimetype": "text/x-python",
   "name": "python",
   "nbconvert_exporter": "python",
   "pygments_lexer": "ipython3",
   "version": "3.9.12"
  }
 },
 "nbformat": 4,
 "nbformat_minor": 5
}
